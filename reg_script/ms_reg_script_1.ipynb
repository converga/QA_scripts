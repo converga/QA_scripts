{
 "cells": [
  {
   "cell_type": "markdown",
   "source": [
    "# Скрипт для создания списка почтовых ящиков и регистраций по ним акков в МС"
   ],
   "metadata": {
    "collapsed": false
   }
  },
  {
   "cell_type": "code",
   "execution_count": 1,
   "outputs": [],
   "source": [
    "import requests"
   ],
   "metadata": {
    "collapsed": false
   }
  },
  {
   "cell_type": "markdown",
   "source": [
    "## Формирование списка с ящиками"
   ],
   "metadata": {
    "collapsed": false
   }
  },
  {
   "cell_type": "code",
   "execution_count": 2,
   "outputs": [],
   "source": [
    "def emails_list_generator(name, n):\n",
    "    emails = []\n",
    "    for i in range(n):\n",
    "        result = name + str(i) + '@' + 'mail.ru'\n",
    "        emails.append(result)\n",
    "    return emails"
   ],
   "metadata": {
    "collapsed": false
   }
  },
  {
   "cell_type": "code",
   "execution_count": 4,
   "outputs": [
    {
     "data": {
      "text/plain": "100"
     },
     "execution_count": 4,
     "metadata": {},
     "output_type": "execute_result"
    }
   ],
   "source": [
    "\n",
    "emails_list = emails_list_generator('test', 100)\n",
    "len(emails_list)"
   ],
   "metadata": {
    "collapsed": false
   }
  },
  {
   "cell_type": "markdown",
   "source": [
    "## Регистрация акков по созданному списку мейлов"
   ],
   "metadata": {
    "collapsed": false
   }
  },
  {
   "cell_type": "code",
   "execution_count": 5,
   "outputs": [
    {
     "name": "stdout",
     "output_type": "stream",
     "text": [
      "account №1 successfully registered\n",
      "account №2 successfully registered\n",
      "account №3 successfully registered\n",
      "account №4 successfully registered\n",
      "account №5 successfully registered\n",
      "account №6 successfully registered\n",
      "account №7 successfully registered\n",
      "account №8 successfully registered\n",
      "account №9 successfully registered\n",
      "account №10 successfully registered\n",
      "account №11 successfully registered\n",
      "account №12 successfully registered\n",
      "account №13 successfully registered\n",
      "account №14 successfully registered\n",
      "account №15 successfully registered\n",
      "account №16 successfully registered\n",
      "account №17 successfully registered\n",
      "account №18 successfully registered\n",
      "account №19 successfully registered\n",
      "account №20 successfully registered\n",
      "account №21 successfully registered\n",
      "account №22 successfully registered\n",
      "account №23 successfully registered\n",
      "account №24 successfully registered\n",
      "account №25 successfully registered\n",
      "account №26 successfully registered\n",
      "account №27 successfully registered\n",
      "account №28 successfully registered\n",
      "account №29 successfully registered\n",
      "account №30 successfully registered\n",
      "account №31 successfully registered\n",
      "account №32 successfully registered\n",
      "account №33 successfully registered\n",
      "account №34 successfully registered\n",
      "account №35 successfully registered\n",
      "account №36 successfully registered\n",
      "account №37 successfully registered\n",
      "account №38 successfully registered\n",
      "account №39 successfully registered\n",
      "account №40 successfully registered\n",
      "account №41 successfully registered\n",
      "account №42 successfully registered\n",
      "account №43 successfully registered\n",
      "account №44 successfully registered\n",
      "account №45 successfully registered\n",
      "account №46 successfully registered\n",
      "account №47 successfully registered\n",
      "account №48 successfully registered\n",
      "account №49 successfully registered\n",
      "account №50 successfully registered\n",
      "account №51 successfully registered\n",
      "account №52 successfully registered\n",
      "account №53 successfully registered\n",
      "account №54 successfully registered\n",
      "account №55 successfully registered\n",
      "account №56 successfully registered\n",
      "account №57 successfully registered\n",
      "account №58 successfully registered\n",
      "account №59 successfully registered\n",
      "account №60 successfully registered\n",
      "account №61 successfully registered\n",
      "account №62 successfully registered\n",
      "account №63 successfully registered\n",
      "account №64 successfully registered\n",
      "account №65 successfully registered\n",
      "account №66 successfully registered\n",
      "account №67 successfully registered\n",
      "account №68 successfully registered\n",
      "account №69 successfully registered\n",
      "account №70 successfully registered\n",
      "account №71 successfully registered\n",
      "account №72 successfully registered\n",
      "account №73 successfully registered\n",
      "account №74 successfully registered\n",
      "account №75 successfully registered\n",
      "account №76 successfully registered\n",
      "account №77 successfully registered\n",
      "account №78 successfully registered\n",
      "account №79 successfully registered\n",
      "account №80 successfully registered\n",
      "account №81 successfully registered\n",
      "account №82 successfully registered\n",
      "account №83 successfully registered\n",
      "account №84 successfully registered\n",
      "account №85 successfully registered\n",
      "account №86 successfully registered\n",
      "account №87 successfully registered\n",
      "account №88 successfully registered\n",
      "account №89 successfully registered\n",
      "account №90 successfully registered\n",
      "account №91 successfully registered\n",
      "account №92 successfully registered\n",
      "account №93 successfully registered\n",
      "account №94 successfully registered\n",
      "account №95 successfully registered\n",
      "account №96 successfully registered\n",
      "account №97 successfully registered\n",
      "account №98 successfully registered\n",
      "account №99 successfully registered\n",
      "account №100 successfully registered\n",
      "------------------------------------------------\n",
      "итого, зарегистрировано: 100 из 100\n"
     ]
    }
   ],
   "source": [
    "\n",
    "namespace = 'billing-5'  # Неймспейс\n",
    "\n",
    "url = f'https://online-{namespace}.testms-test.lognex.ru/api/remap/1.2/register'\n",
    "headers = {'Content-Type': 'application/x-www-form-urlencoded'}\n",
    "\n",
    "\n",
    "counter = 0\n",
    "for email in emails_list:\n",
    "    data = {\n",
    "        'email': email\n",
    "    }\n",
    "    response = requests.post(url, headers=headers, data=data)\n",
    "    if response.ok:\n",
    "        counter+=1\n",
    "        #response=json.loads(response.text)\n",
    "        print(f'account №{counter} successfully registered')\n",
    "    else:\n",
    "        print('Registry failed!'+ str(response))\n",
    "print('------------------------------------------------')\n",
    "print(f'итого, зарегистрировано: {counter} из', len(emails_list))\n"
   ],
   "metadata": {
    "collapsed": false
   }
  },
  {
   "cell_type": "markdown",
   "source": [
    "## Регистрация по ip"
   ],
   "metadata": {
    "collapsed": false
   }
  },
  {
   "cell_type": "code",
   "execution_count": null,
   "outputs": [],
   "source": [
    "ip_list = ['95.24.50.58',\n",
    "           '37.145.40.212',\n",
    "           '178.187.3.208',\n",
    "           '212.34.121.245',\n",
    "           '95.24.50.37',\n",
    "           '92.246.141.255',\n",
    "           '31.148.205.9',\n",
    "           '5.137.104.150',\n",
    "           '83.234.158.25',\n",
    "           '95.31.190.41',\n",
    "           '109.163.216.177',\n",
    "           '109.170.69.122',\n",
    "           '85.103.40.151',\n",
    "           '185.107.81.152',\n",
    "           '217.138.194.124',\n",
    "           '195.54.178.39',\n",
    "           '165.231.253.250',\n",
    "           '5.248.131.255',\n",
    "           '194.242.103.154',\n",
    "           '109.110.84.153',\n",
    "           '194.38.2.27',\n",
    "           '37.79.92.107',\n",
    "           '195.245.103.117',\n",
    "           '151.249.174.104',\n",
    "           '31.148.211.27',\n",
    "           '46.20.203.50',\n",
    "           '94.240.24.91',\n",
    "           '207.180.230.92',\n",
    "           '178.141.122.9',\n",
    "           '178.176.113.4',\n",
    "           '92.255.238.124',\n",
    "           '94.25.181.116'\n",
    "           ]"
   ],
   "metadata": {
    "collapsed": false
   }
  },
  {
   "cell_type": "code",
   "execution_count": 3,
   "outputs": [],
   "source": [
    "\n",
    "\n",
    "def ip_reg(namespace, company_name):\n",
    "    url = f'https://online-{namespace}.testms-test.lognex.ru/registration'\n",
    "    headers = {'Content-Type': 'application/x-www-form-urlencoded'}\n",
    "    counter = 0\n",
    "\n",
    "    for ip in ip_list:\n",
    "        email = str(company_name) + str(counter) + '@' + 'mail.ru'\n",
    "        data = {\n",
    "            'email': email,\n",
    "            'ipSource': ip,\n",
    "        }\n",
    "        response = requests.post(url, headers=headers, data=data)\n",
    "        if response.ok:\n",
    "            counter += 1\n",
    "            #response=json.loads(response.text)\n",
    "            print(f'account №{counter} with ip {ip} successfully registered')\n",
    "        else:\n",
    "            print('Registry failed!' + str(response))\n",
    "    print('------------------------------------------------')\n",
    "    print(f'итого, зарегистрировано: {counter} из', len(ip_list))"
   ],
   "metadata": {
    "collapsed": false
   }
  },
  {
   "cell_type": "markdown",
   "source": [
    "### Пуск скрипта"
   ],
   "metadata": {
    "collapsed": false
   }
  },
  {
   "cell_type": "code",
   "execution_count": 14,
   "outputs": [
    {
     "name": "stdout",
     "output_type": "stream",
     "text": [
      "account №1 with ip 95.24.50.58 successfully registered\n",
      "account №2 with ip 37.145.40.212 successfully registered\n",
      "account №3 with ip 178.187.3.208 successfully registered\n",
      "account №4 with ip 212.34.121.245 successfully registered\n",
      "account №5 with ip 95.24.50.37 successfully registered\n",
      "account №6 with ip 92.246.141.255 successfully registered\n",
      "account №7 with ip 31.148.205.9 successfully registered\n",
      "account №8 with ip 5.137.104.150 successfully registered\n",
      "account №9 with ip 83.234.158.25 successfully registered\n",
      "account №10 with ip 95.31.190.41 successfully registered\n",
      "account №11 with ip 109.163.216.177 successfully registered\n",
      "account №12 with ip 109.170.69.122 successfully registered\n",
      "account №13 with ip 85.103.40.151 successfully registered\n",
      "account №14 with ip 185.107.81.152 successfully registered\n",
      "account №15 with ip 217.138.194.124 successfully registered\n",
      "account №16 with ip 195.54.178.39 successfully registered\n",
      "account №17 with ip 165.231.253.250 successfully registered\n",
      "account №18 with ip 5.248.131.255 successfully registered\n",
      "account №19 with ip 194.242.103.154 successfully registered\n",
      "account №20 with ip 109.110.84.153 successfully registered\n",
      "account №21 with ip 194.38.2.27 successfully registered\n",
      "account №22 with ip 37.79.92.107 successfully registered\n",
      "account №23 with ip 195.245.103.117 successfully registered\n",
      "account №24 with ip 151.249.174.104 successfully registered\n",
      "account №25 with ip 31.148.211.27 successfully registered\n",
      "account №26 with ip 46.20.203.50 successfully registered\n",
      "account №27 with ip 94.240.24.91 successfully registered\n",
      "account №28 with ip 207.180.230.92 successfully registered\n",
      "account №29 with ip 178.141.122.9 successfully registered\n",
      "account №30 with ip 178.176.113.4 successfully registered\n",
      "account №31 with ip 92.255.238.124 successfully registered\n",
      "account №32 with ip 94.25.181.116 successfully registered\n",
      "------------------------------------------------\n",
      "итого, зарегистрировано: 32 из 32\n",
      "31.70285415649414\n"
     ]
    }
   ],
   "source": [
    "import time\n",
    "\n",
    "start = time.time()  ## точка отсчета времени\n",
    "\n",
    "ip_reg('billing-5', 'test')\n",
    "\n",
    "end = time.time() - start  ## собственно время работы программы\n",
    "\n",
    "print(f'выполнялось {end}с' )  ## вывод времени"
   ],
   "metadata": {
    "collapsed": false
   }
  }
 ],
 "metadata": {
  "kernelspec": {
   "display_name": "Python 3",
   "language": "python",
   "name": "python3"
  },
  "language_info": {
   "codemirror_mode": {
    "name": "ipython",
    "version": 2
   },
   "file_extension": ".py",
   "mimetype": "text/x-python",
   "name": "python",
   "nbconvert_exporter": "python",
   "pygments_lexer": "ipython2",
   "version": "2.7.6"
  }
 },
 "nbformat": 4,
 "nbformat_minor": 0
}
