{
 "cells": [
  {
   "cell_type": "code",
   "execution_count": 1,
   "metadata": {
    "collapsed": true
   },
   "outputs": [],
   "source": [
    "import requests\n",
    "import json\n",
    "import uuid"
   ]
  },
  {
   "cell_type": "code",
   "execution_count": 3,
   "metadata": {
    "collapsed": false
   },
   "outputs": [
    {
     "name": "stdout",
     "output_type": "stream",
     "text": [
      "Success\n",
      "Product7 successfully activated!\n",
      "------------------------------------------\n",
      "Success\n",
      "Product8 successfully activated!\n",
      "------------------------------------------\n",
      "Success\n",
      "Product9 successfully activated!\n",
      "------------------------------------------\n",
      "Success\n",
      "Product10 successfully activated!\n",
      "------------------------------------------\n"
     ]
    }
   ],
   "source": [
    "# Changing parameters:\n",
    "counter = 7\n",
    "namespace = 'billing-5'\n",
    "product_number = 4\n",
    "\n",
    "\n",
    "# set up url for creating the product\n",
    "url = f'https://admin-{namespace}.testms-test.lognex.ru/api/tarifflego/1.0/product'\n",
    "headers = {'Content-Type': 'application/json'}\n",
    "\n",
    "# set data to activating request\n",
    "data_activate = {\n",
    "    \"status\": \"ACTIVE\"\n",
    "}\n",
    "json_activate = json.dumps(data_activate)\n",
    "\n",
    "free_id = None\n",
    "trial_id = None\n",
    "for product in range(product_number):\n",
    "    with open('product_sample.json', encoding='utf-8') as product_data:\n",
    "        sub_data = json.load(product_data)\n",
    "        sub_data['name'] = str(f'Test_product_{counter}')\n",
    "\n",
    "    for tariff in sub_data[\"tariffs\"]:\n",
    "        if tariff[\"name\"][\"en\"] == \"Free\":\n",
    "            free_id = str(uuid.uuid4())\n",
    "            tariff[\"id\"] = free_id\n",
    "        elif tariff[\"name\"][\"en\"] == \"Trial\":\n",
    "            trial_id = str(uuid.uuid4())\n",
    "            tariff[\"id\"] = trial_id\n",
    "        else:\n",
    "            tariff[\"id\"] = str(uuid.uuid4())\n",
    "\n",
    "    # Assigning Free and Trial to a product\n",
    "    sub_data['trial']['tariffId'] = trial_id\n",
    "    sub_data['free']['tariffId'] = free_id\n",
    "\n",
    "    # convert the modified data back to json encoded to utf-8 and with no ascii\n",
    "    json_data = json.dumps(sub_data, ensure_ascii=False, indent=4).encode('utf-8')\n",
    "\n",
    "    # make a POST request to the specified URL with the json data\n",
    "    response = requests.post(url, json_data, headers=headers)\n",
    "\n",
    "    # check the status code of the response\n",
    "    if response.ok:\n",
    "        print('Success')\n",
    "        response_data = response.json()\n",
    "        product_id = response_data.get(\"id\")\n",
    "        url2 = f'https://admin-{namespace}.testms-test.lognex.ru/api/tarifflego/1.0/product/{product_id}/version/1/status'\n",
    "\n",
    "        response_activate = requests.put(url2, json_activate, headers=headers)\n",
    "        if response_activate.status_code == 204:\n",
    "            print(f'Product{counter} successfully activated!')\n",
    "            print('------------------------------------------')\n",
    "            counter += 1\n",
    "        else:\n",
    "            print(f'Request failed with status code {response_activate.status_code}')\n",
    "\n",
    "    else:\n",
    "        print(f'Failed, {response}')"
   ]
  },
  {
   "cell_type": "code",
   "execution_count": 2,
   "outputs": [],
   "source": [],
   "metadata": {
    "collapsed": false
   }
  }
 ],
 "metadata": {
  "kernelspec": {
   "display_name": "base",
   "language": "python",
   "name": "python3"
  },
  "language_info": {
   "codemirror_mode": {
    "name": "ipython",
    "version": 3
   },
   "file_extension": ".py",
   "mimetype": "text/x-python",
   "name": "python",
   "nbconvert_exporter": "python",
   "pygments_lexer": "ipython3",
   "version": "3.8.8"
  },
  "vscode": {
   "interpreter": {
    "hash": "3408afaaa7c23c311d78a41395c90f1dde8ba279617b28ada44bd57fe87f8922"
   }
  }
 },
 "nbformat": 4,
 "nbformat_minor": 0
}
