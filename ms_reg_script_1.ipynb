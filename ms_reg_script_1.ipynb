{
 "cells": [
  {
   "cell_type": "markdown",
   "source": [
    "# Скрипт для создания списка почтовых ящиков и регистраций по ним акков в МС"
   ],
   "metadata": {
    "collapsed": false
   }
  },
  {
   "cell_type": "markdown",
   "source": [
    "## Формирование списка с ящиками"
   ],
   "metadata": {
    "collapsed": false
   }
  },
  {
   "cell_type": "code",
   "execution_count": 1,
   "outputs": [],
   "source": [
    "\n",
    "def emails_list(name, n):\n",
    "    emails = []\n",
    "    for i in range(n):\n",
    "        result = name+str(i) +'@'+'mail.ru'\n",
    "        emails.append(result)\n",
    "    return emails"
   ],
   "metadata": {
    "collapsed": false
   }
  },
  {
   "cell_type": "code",
   "execution_count": 2,
   "outputs": [],
   "source": [
    "emails = emails_list('sobaka_sutulaya', 100)"
   ],
   "metadata": {
    "collapsed": false
   }
  },
  {
   "cell_type": "code",
   "execution_count": 3,
   "outputs": [
    {
     "data": {
      "text/plain": "['sobaka_sutulaya0@mail.ru',\n 'sobaka_sutulaya1@mail.ru',\n 'sobaka_sutulaya2@mail.ru',\n 'sobaka_sutulaya3@mail.ru',\n 'sobaka_sutulaya4@mail.ru',\n 'sobaka_sutulaya5@mail.ru',\n 'sobaka_sutulaya6@mail.ru',\n 'sobaka_sutulaya7@mail.ru',\n 'sobaka_sutulaya8@mail.ru',\n 'sobaka_sutulaya9@mail.ru',\n 'sobaka_sutulaya10@mail.ru',\n 'sobaka_sutulaya11@mail.ru',\n 'sobaka_sutulaya12@mail.ru',\n 'sobaka_sutulaya13@mail.ru',\n 'sobaka_sutulaya14@mail.ru',\n 'sobaka_sutulaya15@mail.ru',\n 'sobaka_sutulaya16@mail.ru',\n 'sobaka_sutulaya17@mail.ru',\n 'sobaka_sutulaya18@mail.ru',\n 'sobaka_sutulaya19@mail.ru',\n 'sobaka_sutulaya20@mail.ru',\n 'sobaka_sutulaya21@mail.ru',\n 'sobaka_sutulaya22@mail.ru',\n 'sobaka_sutulaya23@mail.ru',\n 'sobaka_sutulaya24@mail.ru',\n 'sobaka_sutulaya25@mail.ru',\n 'sobaka_sutulaya26@mail.ru',\n 'sobaka_sutulaya27@mail.ru',\n 'sobaka_sutulaya28@mail.ru',\n 'sobaka_sutulaya29@mail.ru',\n 'sobaka_sutulaya30@mail.ru',\n 'sobaka_sutulaya31@mail.ru',\n 'sobaka_sutulaya32@mail.ru',\n 'sobaka_sutulaya33@mail.ru',\n 'sobaka_sutulaya34@mail.ru',\n 'sobaka_sutulaya35@mail.ru',\n 'sobaka_sutulaya36@mail.ru',\n 'sobaka_sutulaya37@mail.ru',\n 'sobaka_sutulaya38@mail.ru',\n 'sobaka_sutulaya39@mail.ru',\n 'sobaka_sutulaya40@mail.ru',\n 'sobaka_sutulaya41@mail.ru',\n 'sobaka_sutulaya42@mail.ru',\n 'sobaka_sutulaya43@mail.ru',\n 'sobaka_sutulaya44@mail.ru',\n 'sobaka_sutulaya45@mail.ru',\n 'sobaka_sutulaya46@mail.ru',\n 'sobaka_sutulaya47@mail.ru',\n 'sobaka_sutulaya48@mail.ru',\n 'sobaka_sutulaya49@mail.ru',\n 'sobaka_sutulaya50@mail.ru',\n 'sobaka_sutulaya51@mail.ru',\n 'sobaka_sutulaya52@mail.ru',\n 'sobaka_sutulaya53@mail.ru',\n 'sobaka_sutulaya54@mail.ru',\n 'sobaka_sutulaya55@mail.ru',\n 'sobaka_sutulaya56@mail.ru',\n 'sobaka_sutulaya57@mail.ru',\n 'sobaka_sutulaya58@mail.ru',\n 'sobaka_sutulaya59@mail.ru',\n 'sobaka_sutulaya60@mail.ru',\n 'sobaka_sutulaya61@mail.ru',\n 'sobaka_sutulaya62@mail.ru',\n 'sobaka_sutulaya63@mail.ru',\n 'sobaka_sutulaya64@mail.ru',\n 'sobaka_sutulaya65@mail.ru',\n 'sobaka_sutulaya66@mail.ru',\n 'sobaka_sutulaya67@mail.ru',\n 'sobaka_sutulaya68@mail.ru',\n 'sobaka_sutulaya69@mail.ru',\n 'sobaka_sutulaya70@mail.ru',\n 'sobaka_sutulaya71@mail.ru',\n 'sobaka_sutulaya72@mail.ru',\n 'sobaka_sutulaya73@mail.ru',\n 'sobaka_sutulaya74@mail.ru',\n 'sobaka_sutulaya75@mail.ru',\n 'sobaka_sutulaya76@mail.ru',\n 'sobaka_sutulaya77@mail.ru',\n 'sobaka_sutulaya78@mail.ru',\n 'sobaka_sutulaya79@mail.ru',\n 'sobaka_sutulaya80@mail.ru',\n 'sobaka_sutulaya81@mail.ru',\n 'sobaka_sutulaya82@mail.ru',\n 'sobaka_sutulaya83@mail.ru',\n 'sobaka_sutulaya84@mail.ru',\n 'sobaka_sutulaya85@mail.ru',\n 'sobaka_sutulaya86@mail.ru',\n 'sobaka_sutulaya87@mail.ru',\n 'sobaka_sutulaya88@mail.ru',\n 'sobaka_sutulaya89@mail.ru',\n 'sobaka_sutulaya90@mail.ru',\n 'sobaka_sutulaya91@mail.ru',\n 'sobaka_sutulaya92@mail.ru',\n 'sobaka_sutulaya93@mail.ru',\n 'sobaka_sutulaya94@mail.ru',\n 'sobaka_sutulaya95@mail.ru',\n 'sobaka_sutulaya96@mail.ru',\n 'sobaka_sutulaya97@mail.ru',\n 'sobaka_sutulaya98@mail.ru',\n 'sobaka_sutulaya99@mail.ru']"
     },
     "execution_count": 3,
     "metadata": {},
     "output_type": "execute_result"
    }
   ],
   "source": [
    "emails"
   ],
   "metadata": {
    "collapsed": false
   }
  },
  {
   "cell_type": "markdown",
   "source": [
    "## Регистрация акков по созданному списку мейлов"
   ],
   "metadata": {
    "collapsed": false
   }
  },
  {
   "cell_type": "code",
   "execution_count": 4,
   "outputs": [
    {
     "name": "stdout",
     "output_type": "stream",
     "text": [
      "Account successfully registered\n",
      "Account successfully registered\n",
      "Account successfully registered\n",
      "Account successfully registered\n",
      "Account successfully registered\n",
      "Account successfully registered\n",
      "Account successfully registered\n",
      "Account successfully registered\n",
      "Account successfully registered\n",
      "Account successfully registered\n",
      "Account successfully registered\n",
      "Account successfully registered\n",
      "Account successfully registered\n",
      "Account successfully registered\n",
      "Account successfully registered\n",
      "Account successfully registered\n",
      "Account successfully registered\n",
      "Account successfully registered\n",
      "Account successfully registered\n",
      "Account successfully registered\n",
      "Account successfully registered\n",
      "Account successfully registered\n",
      "Account successfully registered\n",
      "Account successfully registered\n",
      "Account successfully registered\n",
      "Account successfully registered\n",
      "Account successfully registered\n",
      "Account successfully registered\n",
      "Account successfully registered\n",
      "Account successfully registered\n",
      "Account successfully registered\n",
      "Account successfully registered\n",
      "Account successfully registered\n",
      "Account successfully registered\n",
      "Account successfully registered\n",
      "Account successfully registered\n",
      "Account successfully registered\n",
      "Account successfully registered\n",
      "Account successfully registered\n",
      "Account successfully registered\n",
      "Account successfully registered\n",
      "Account successfully registered\n",
      "Account successfully registered\n",
      "Account successfully registered\n",
      "Account successfully registered\n",
      "Account successfully registered\n",
      "Account successfully registered\n",
      "Account successfully registered\n",
      "Account successfully registered\n",
      "Account successfully registered\n",
      "Account successfully registered\n",
      "Account successfully registered\n",
      "Account successfully registered\n",
      "Account successfully registered\n",
      "Account successfully registered\n",
      "Account successfully registered\n",
      "Account successfully registered\n",
      "Account successfully registered\n",
      "Account successfully registered\n",
      "Account successfully registered\n",
      "Account successfully registered\n",
      "Account successfully registered\n",
      "Account successfully registered\n",
      "Account successfully registered\n",
      "Account successfully registered\n",
      "Account successfully registered\n",
      "Account successfully registered\n",
      "Account successfully registered\n",
      "Account successfully registered\n",
      "Account successfully registered\n",
      "Account successfully registered\n",
      "Account successfully registered\n",
      "Account successfully registered\n",
      "Account successfully registered\n",
      "Account successfully registered\n",
      "Account successfully registered\n",
      "Account successfully registered\n",
      "Account successfully registered\n",
      "Account successfully registered\n",
      "Account successfully registered\n",
      "Account successfully registered\n",
      "Account successfully registered\n",
      "Account successfully registered\n",
      "Account successfully registered\n",
      "Account successfully registered\n",
      "Account successfully registered\n",
      "Account successfully registered\n",
      "Account successfully registered\n",
      "Account successfully registered\n",
      "Account successfully registered\n",
      "Account successfully registered\n",
      "Account successfully registered\n",
      "Account successfully registered\n",
      "Account successfully registered\n",
      "Account successfully registered\n",
      "Account successfully registered\n",
      "Account successfully registered\n",
      "Account successfully registered\n",
      "Account successfully registered\n",
      "Account successfully registered\n"
     ]
    }
   ],
   "source": [
    "\n",
    "import requests\n",
    "\n",
    "namespace = 5  # Неймспейс\n",
    "\n",
    "url = f'https://online-billing-{namespace}.testms-test.lognex.ru/api/remap/1.2/register'\n",
    "headers = {'Content-Type': 'application/x-www-form-urlencoded'}\n",
    "\n",
    "for email in emails:\n",
    "    data = {\n",
    "        'email': email\n",
    "    }\n",
    "    response = requests.post(url, headers=headers, data=data)\n",
    "    if response.ok:\n",
    "        #response=json.loads(response.text)\n",
    "        print('Account successfully registered')\n",
    "    else:\n",
    "        print('Registry failed!'+ str(response))"
   ],
   "metadata": {
    "collapsed": false
   }
  },
  {
   "cell_type": "markdown",
   "source": [],
   "metadata": {
    "collapsed": false
   }
  }
 ],
 "metadata": {
  "kernelspec": {
   "display_name": "Python 3",
   "language": "python",
   "name": "python3"
  },
  "language_info": {
   "codemirror_mode": {
    "name": "ipython",
    "version": 2
   },
   "file_extension": ".py",
   "mimetype": "text/x-python",
   "name": "python",
   "nbconvert_exporter": "python",
   "pygments_lexer": "ipython2",
   "version": "2.7.6"
  }
 },
 "nbformat": 4,
 "nbformat_minor": 0
}
