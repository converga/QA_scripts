{
 "cells": [
  {
   "cell_type": "markdown",
   "source": [
    "## Скрипт для создания заявок Subzero на несколько аккаунтов МС\n"
   ],
   "metadata": {
    "collapsed": false
   }
  },
  {
   "cell_type": "markdown",
   "source": [],
   "metadata": {
    "collapsed": false
   }
  },
  {
   "cell_type": "code",
   "execution_count": 20,
   "metadata": {
    "collapsed": true
   },
   "outputs": [],
   "source": [
    "# ! pip install psycopg2-binary\n",
    "# ! pip install snowflake-connector-python\n",
    "# !pip install ipython-sql\n",
    "# pip install tqdm\n",
    "\n",
    "from tqdm import tqdm\n",
    "import pandas as pd\n",
    "import requests\n",
    "import json\n",
    "import sqlalchemy\n",
    "from concurrent.futures import ThreadPoolExecutor\n",
    "\n",
    "con = sqlalchemy.create_engine('postgresql://postgres:@127.0.0.1:8181/lognex')"
   ]
  },
  {
   "cell_type": "code",
   "execution_count": 21,
   "outputs": [],
   "source": [
    "# Задание переменных:\n",
    "namespace = 5  # Неймспейс\n",
    "ticket_number = 1  # Количество заявок на 1 аккаунт\n",
    "thread_number = 20  # Количество потоков\n",
    "\n",
    "url = f'https://subzero-billing-{namespace}.testms-test.lognex.ru/api/clinton/1.0/ticket'\n",
    "headers = {'Content-Type': 'application/json'}"
   ],
   "metadata": {
    "collapsed": false
   }
  },
  {
   "cell_type": "code",
   "execution_count": 22,
   "outputs": [],
   "source": [
    "# Фукнция для запроса к базе\n",
    "def sql_go(request):\n",
    "    return pd.read_sql(sqlalchemy.text(request), con)"
   ],
   "metadata": {
    "collapsed": false
   }
  },
  {
   "cell_type": "code",
   "execution_count": 4,
   "outputs": [],
   "source": [
    "# Вручную выгруженный файл из базы с аккаунтами\n",
    "# accounts = pd.read_csv('lognex_billing_billingaccount.csv',header=None)\n",
    "# accounts=accounts.values.tolist()"
   ],
   "metadata": {
    "collapsed": false
   }
  },
  {
   "cell_type": "code",
   "execution_count": 23,
   "outputs": [],
   "source": [
    "# Запрос\n",
    "sql = '''\n",
    "            select id from billing.billingaccount\n",
    "        '''"
   ],
   "metadata": {
    "collapsed": false
   }
  },
  {
   "cell_type": "code",
   "execution_count": 24,
   "outputs": [],
   "source": [
    "accounts = sql_go(sql)\n",
    "# print(accounts)\n",
    "# print(accounts.info())"
   ],
   "metadata": {
    "collapsed": false
   }
  },
  {
   "cell_type": "markdown",
   "source": [
    "## Функция для скрипта"
   ],
   "metadata": {
    "collapsed": false
   }
  },
  {
   "cell_type": "code",
   "execution_count": 25,
   "outputs": [
    {
     "name": "stderr",
     "output_type": "stream",
     "text": [
      "Making requests for id    4615c8f6-0e7b-11e2-06e0-3c4a92f3a0a7\n",
      "Name: 0, dtype: object:   0%|          | 0/1 [00:00<?, ?it/s]\n",
      "\n",
      "Making requests for id    fbc15f55-8690-11ed-0a81-062400000000\n",
      "Name: 4, dtype: object:   0%|          | 0/1 [00:00<?, ?it/s]\u001B[A\u001B[A\n",
      "Making requests for id    7e9629bb-85c2-11ed-0a81-08d900000028\n",
      "Name: 2, dtype: object:   0%|          | 0/1 [00:00<?, ?it/s]\u001B[A\n",
      "\n",
      "\n",
      "Making requests for id    54a3aa65-86bf-11ed-0a81-062400000056\n",
      "Name: 5, dtype: object:   0%|          | 0/1 [00:00<?, ?it/s]\u001B[A\u001B[A\u001B[A\n",
      "\n",
      "\n",
      "\n",
      "Making requests for id    9f0f92b0-85c4-11ed-0a81-08d900000040\n",
      "Name: 3, dtype: object:   0%|          | 0/1 [00:00<?, ?it/s]\u001B[A\u001B[A\u001B[A\u001B[A\n",
      "\n",
      "\n",
      "\n",
      "\n",
      "Aggregating results:   0%|          | 0/9 [00:00<?, ?it/s]\u001B[A\u001B[A\u001B[A\u001B[A\u001B[A\n",
      "\n",
      "\n",
      "\n",
      "\n",
      "\n",
      "\n",
      "Making requests for id    f007f07c-85b9-11ed-0a81-08d900000002\n",
      "Name: 6, dtype: object:   0%|          | 0/1 [00:00<?, ?it/s]\u001B[A\u001B[A\u001B[A\u001B[A\u001B[A\u001B[A\u001B[A\n",
      "\n",
      "\n",
      "\n",
      "\n",
      "\n",
      "Making requests for id    5e99ece8-86bf-11ed-0a81-06240000005f\n",
      "Name: 7, dtype: object:   0%|          | 0/1 [00:00<?, ?it/s]\u001B[A\u001B[A\u001B[A\u001B[A\u001B[A\u001B[A\n",
      "\n",
      "\n",
      "\n",
      "\n",
      "\n",
      "\n",
      "\n",
      "\n",
      "Making requests for id    21f9e601-85c5-11ed-0a81-08d90000004f\n",
      "Name: 1, dtype: object:   0%|          | 0/1 [00:00<?, ?it/s]\u001B[A\u001B[A\u001B[A\u001B[A\u001B[A\u001B[A\u001B[A\u001B[A\u001B[A\n",
      "\n",
      "\n",
      "\n",
      "\n",
      "\n",
      "\n",
      "\n",
      "Making requests for id    8cf46406-85c1-11ed-0a81-08d90000001e\n",
      "Making requests for id    4615c8f6-0e7b-11e2-06e0-3c4a92f3a0a7[A\u001B[A\u001B[A\u001B[A\u001B[A\u001B[A\u001B[A\u001B[A\n",
      "Making requests for id    4615c8f6-0e7b-11e2-06e0-3c4a92f3a0a717it/s]\n",
      "Name: 0, dtype: object: 100%|██████████| 1/1 [00:00<00:00,  2.16it/s]\n",
      "\n",
      "\n",
      "\n",
      "\n",
      "\n",
      "Aggregating results:  11%|█         | 1/9 [00:00<00:03,  2.37it/s]\u001B[A\u001B[A\u001B[A\u001B[A\u001B[A\n",
      "\n",
      "\n",
      "Making requests for id    54a3aa65-86bf-11ed-0a81-062400000056\n",
      "Making requests for id    54a3aa65-86bf-11ed-0a81-06240000005670it/s]\u001B[A\u001B[A\u001B[A\n",
      "Name: 5, dtype: object: 100%|██████████| 1/1 [00:00<00:00,  1.70it/s]"
     ]
    },
    {
     "name": "stdout",
     "output_type": "stream",
     "text": [
      "Заявка для id    4615c8f6-0e7b-11e2-06e0-3c4a92f3a0a7\n",
      "Name: 0, dtype: object НЕ создана<Response [500]>\n",
      "Заявка для id    54a3aa65-86bf-11ed-0a81-062400000056\n",
      "Name: 5, dtype: object создана \n",
      "\n"
     ]
    },
    {
     "name": "stderr",
     "output_type": "stream",
     "text": [
      "\n",
      "\n",
      "\n",
      "Making requests for id    fbc15f55-8690-11ed-0a81-062400000000\n",
      "Making requests for id    fbc15f55-8690-11ed-0a81-06240000000033it/s]\u001B[A\u001B[A\n",
      "Name: 4, dtype: object: 100%|██████████| 1/1 [00:00<00:00,  1.32it/s]\n",
      "\n",
      "\n",
      "\n",
      "\n",
      "Making requests for id    9f0f92b0-85c4-11ed-0a81-08d900000040\n",
      "Name: 3, dtype: object: 100%|██████████| 1/1 [00:00<00:00,  1.24it/s]\u001B[A\u001B[A\u001B[A\u001B[A\n",
      "Making requests for id    7e9629bb-85c2-11ed-0a81-08d900000028\n",
      "Name: 2, dtype: object: 100%|██████████| 1/1 [00:00<00:00,  1.22it/s]\u001B[A\n",
      "\n",
      "\n",
      "\n",
      "\n",
      "\n",
      "\n",
      "\n",
      "\n",
      "Making requests for id    21f9e601-85c5-11ed-0a81-08d90000004f\n",
      "Making requests for id    9f0f92b0-85c4-11ed-0a81-08d90000004027it/s]\u001B[A\u001B[A\u001B[A\u001B[A\u001B[A\u001B[A\u001B[A\u001B[A\u001B[A\n",
      "Name: 3, dtype: object: 100%|██████████| 1/1 [00:00<00:00,  1.22it/s]\n",
      "Making requests for id    7e9629bb-85c2-11ed-0a81-08d900000028\n",
      "Name: 2, dtype: object: 100%|██████████| 1/1 [00:00<00:00,  1.20it/s]\n",
      "Making requests for id    21f9e601-85c5-11ed-0a81-08d90000004f\n",
      "Name: 1, dtype: object: 100%|██████████| 1/1 [00:00<00:00,  1.25it/s]\n",
      "\n",
      "\n",
      "\n",
      "\n",
      "\n",
      "Aggregating results:  22%|██▏       | 2/9 [00:00<00:02,  2.44it/s]\u001B[A\u001B[A\u001B[A\u001B[A\u001B[A\n",
      "\n",
      "\n",
      "\n",
      "\n",
      "\n",
      "\n",
      "Making requests for id    f007f07c-85b9-11ed-0a81-08d900000002\n",
      "Making requests for id    f007f07c-85b9-11ed-0a81-08d90000000215it/s]\u001B[A\u001B[A\u001B[A\u001B[A\u001B[A\u001B[A\u001B[A\n",
      "Name: 6, dtype: object: 100%|██████████| 1/1 [00:00<00:00,  1.15it/s]\n",
      "\n",
      "\n",
      "\n",
      "\n",
      "\n",
      "\n",
      "Making requests for id    5e99ece8-86bf-11ed-0a81-06240000005f\n",
      "Making requests for id    5e99ece8-86bf-11ed-0a81-06240000005f11it/s]\u001B[A\u001B[A\u001B[A\u001B[A\u001B[A\u001B[A\n",
      "Name: 7, dtype: object: 100%|██████████| 1/1 [00:00<00:00,  1.10it/s]"
     ]
    },
    {
     "name": "stdout",
     "output_type": "stream",
     "text": [
      "Заявка для id    fbc15f55-8690-11ed-0a81-062400000000\n",
      "Name: 4, dtype: object создана \n",
      "\n",
      "Заявка для id    9f0f92b0-85c4-11ed-0a81-08d900000040\n",
      "Name: 3, dtype: object создана \n",
      "\n",
      "Заявка для id    7e9629bb-85c2-11ed-0a81-08d900000028\n",
      "Name: 2, dtype: object создана \n",
      "\n",
      "Заявка для id    21f9e601-85c5-11ed-0a81-08d90000004f\n",
      "Name: 1, dtype: object создана \n",
      "\n",
      "Заявка для id    f007f07c-85b9-11ed-0a81-08d900000002\n",
      "Name: 6, dtype: object создана \n",
      "\n",
      "Заявка для id    5e99ece8-86bf-11ed-0a81-06240000005f\n",
      "Name: 7, dtype: object создана \n",
      "\n"
     ]
    },
    {
     "name": "stderr",
     "output_type": "stream",
     "text": [
      "\n",
      "\n",
      "\n",
      "\n",
      "\n",
      "\n",
      "\n",
      "\n",
      "\n",
      "Making requests for id    8cf46406-85c1-11ed-0a81-08d90000001e\n",
      "Making requests for id    8cf46406-85c1-11ed-0a81-08d90000001e02it/s]\u001B[A\u001B[A\u001B[A\u001B[A\u001B[A\u001B[A\u001B[A\u001B[A\n",
      "Name: 8, dtype: object: 100%|██████████| 1/1 [00:00<00:00,  1.02it/s]\n",
      "\n",
      "\n",
      "\n",
      "\n",
      "\n",
      "Aggregating results: 100%|██████████| 9/9 [00:01<00:00,  8.92it/s]\u001B[A\u001B[A\u001B[A\u001B[A\u001B[A\n"
     ]
    },
    {
     "name": "stdout",
     "output_type": "stream",
     "text": [
      "Заявка для id    8cf46406-85c1-11ed-0a81-08d90000001e\n",
      "Name: 8, dtype: object создана \n",
      "\n",
      "------------------------------------------------\n",
      "итого, создано заявок: 9\n"
     ]
    }
   ],
   "source": [
    "def bomber_to_many(row):\n",
    "    counter = 0\n",
    "    with open('json3.json', 'r') as json3:\n",
    "        sub_data = json.load(json3)\n",
    "    sub_data['accountId'] = str(row[\"id\"])\n",
    "\n",
    "    with requests.Session() as s:\n",
    "        for ticket in tqdm(range(ticket_number), desc=f'Making requests for {row}'):\n",
    "            counter += 1\n",
    "            try:\n",
    "                with s.post(url, data=json.dumps(sub_data), headers=headers) as r:\n",
    "                    if r.ok:\n",
    "                        print(f'Заявка для {row} создана', '\\n')\n",
    "                    else:\n",
    "                        print(f'Заявка для {row} НЕ создана'+str(r))\n",
    "            except Exception as e:\n",
    "                print('Error occurred while making request:', e)\n",
    "    return counter\n",
    "\n",
    "# Создание пула потоков\n",
    "with ThreadPoolExecutor(max_workers=thread_number) as executor:\n",
    "    # Запуск потоков\n",
    "    results = [executor.submit(bomber_to_many, row) for index, row in accounts.iterrows()]\n",
    "    total_tickets = sum(result.result() for result in tqdm(results, desc='Aggregating results'))\n",
    "\n",
    "print('------------------------------------------------')\n",
    "print(f'итого, создано заявок: {total_tickets}')"
   ],
   "metadata": {
    "collapsed": false
   }
  }
 ],
 "metadata": {
  "kernelspec": {
   "display_name": "Python 3",
   "language": "python",
   "name": "python3"
  },
  "language_info": {
   "codemirror_mode": {
    "name": "ipython",
    "version": 2
   },
   "file_extension": ".py",
   "mimetype": "text/x-python",
   "name": "python",
   "nbconvert_exporter": "python",
   "pygments_lexer": "ipython2",
   "version": "2.7.6"
  }
 },
 "nbformat": 4,
 "nbformat_minor": 0
}
