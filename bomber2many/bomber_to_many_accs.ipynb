{
 "cells": [
  {
   "cell_type": "markdown",
   "source": [
    "## Скрипт для создания заявок Subzero на несколько аккаунтов МС\n"
   ],
   "metadata": {
    "collapsed": false
   }
  },
  {
   "cell_type": "markdown",
   "source": [],
   "metadata": {
    "collapsed": false
   }
  },
  {
   "cell_type": "code",
   "execution_count": 1,
   "metadata": {
    "collapsed": true
   },
   "outputs": [],
   "source": [
    "# ! pip install psycopg2-binary\n",
    "# ! pip install snowflake-connector-python\n",
    "# !pip install ipython-sql\n",
    "import time\n",
    "import pandas as pd\n",
    "import requests\n",
    "import json\n",
    "from concurrent.futures import ThreadPoolExecutor\n",
    "import sqlalchemy\n",
    "\n",
    "con = sqlalchemy.create_engine('postgresql://postgres:@127.0.0.1:8181/lognex')"
   ]
  },
  {
   "cell_type": "code",
   "execution_count": 2,
   "outputs": [],
   "source": [
    "# Задание переменных:\n",
    "namespace = 5  # Неймспейс\n",
    "ticket_number = 1  # Количество заявок на 1 аккаунт\n",
    "thread_number = 20  # Количество потоков\n",
    "\n",
    "url = f'https://subzero-billing-{namespace}.testms-test.lognex.ru/api/clinton/1.0/ticket'\n",
    "headers = {'Content-Type': 'application/json'}"
   ],
   "metadata": {
    "collapsed": false
   }
  },
  {
   "cell_type": "code",
   "execution_count": 12,
   "outputs": [],
   "source": [
    "# Фукнция для запроса к базе\n",
    "\n",
    "def sql_go(request):\n",
    "    return pd.read_sql(sqlalchemy.text(request), con)"
   ],
   "metadata": {
    "collapsed": false
   }
  },
  {
   "cell_type": "code",
   "execution_count": 4,
   "outputs": [],
   "source": [
    "# Вручную выгруженный файл из базы с аккаунтами\n",
    "# accounts = pd.read_csv('lognex_billing_billingaccount.csv',header=None)\n",
    "# accounts=accounts.values.tolist()"
   ],
   "metadata": {
    "collapsed": false
   }
  },
  {
   "cell_type": "code",
   "execution_count": 13,
   "outputs": [],
   "source": [
    "# Запрос\n",
    "sql = '''\n",
    "            select id from billing.billingaccount WHERE company LIKE 'sobaka%'\n",
    "        '''"
   ],
   "metadata": {
    "collapsed": false
   }
  },
  {
   "cell_type": "code",
   "execution_count": 14,
   "outputs": [],
   "source": [
    "accounts = sql_go(sql)\n",
    "# print(accounts)\n",
    "# print(accounts.info())"
   ],
   "metadata": {
    "collapsed": false
   }
  },
  {
   "cell_type": "markdown",
   "source": [
    "## Функция для скрипта"
   ],
   "metadata": {
    "collapsed": false
   }
  },
  {
   "cell_type": "code",
   "execution_count": 15,
   "outputs": [],
   "source": [
    "def bomber_to_many():\n",
    "    counter = 0\n",
    "    with open('json3.json', 'r') as json3:\n",
    "        sub_data = json.load(json3)\n",
    "    for index, row in accounts.iterrows():\n",
    "        sub_data['accountId'] = str(row[\"id\"])\n",
    "\n",
    "        for i in range(ticket_number):\n",
    "            counter += 1\n",
    "            response = requests.post(url, data=json.dumps(sub_data), headers=headers)\n",
    "            if response.ok:\n",
    "                print(f'Заявка для {row} создана', '\\n')\n",
    "            #return response\n",
    "            else:\n",
    "                print(f'Заявка для {row} НЕ создана'+str(response))\n",
    "    print('------------------------------------------------')\n",
    "    print(f'итого, создано заявок: {counter}')\n"
   ],
   "metadata": {
    "collapsed": false
   }
  },
  {
   "cell_type": "markdown",
   "source": [
    "## Одиночный прогон без потоков"
   ],
   "metadata": {
    "collapsed": false
   }
  },
  {
   "cell_type": "code",
   "execution_count": null,
   "outputs": [],
   "source": [
    "bomber_to_many"
   ],
   "metadata": {
    "collapsed": false
   }
  },
  {
   "cell_type": "markdown",
   "source": [
    "## Потоки"
   ],
   "metadata": {
    "collapsed": false
   }
  },
  {
   "cell_type": "markdown",
   "source": [
    "### Пуск потоков"
   ],
   "metadata": {
    "collapsed": false
   }
  },
  {
   "cell_type": "code",
   "execution_count": null,
   "outputs": [],
   "source": [
    "\n",
    "\n",
    "start = time.time()  ## точка отсчета времени\n",
    "with ThreadPoolExecutor(max_workers=thread_number) as executor:\n",
    "    # Запуск потоков\n",
    "    results = [executor.submit(bomber_to_many) for _ in range(thread_number)]\n",
    "\n",
    "end = time.time() - start\n",
    "print('All threads have completed')\n",
    "print(f'Выполнялось: {end}с' )  ## вывод времени"
   ],
   "metadata": {
    "collapsed": false
   }
  }
 ],
 "metadata": {
  "kernelspec": {
   "display_name": "Python 3",
   "language": "python",
   "name": "python3"
  },
  "language_info": {
   "codemirror_mode": {
    "name": "ipython",
    "version": 2
   },
   "file_extension": ".py",
   "mimetype": "text/x-python",
   "name": "python",
   "nbconvert_exporter": "python",
   "pygments_lexer": "ipython2",
   "version": "2.7.6"
  }
 },
 "nbformat": 4,
 "nbformat_minor": 0
}
