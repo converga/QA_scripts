{
 "cells": [
  {
   "cell_type": "markdown",
   "source": [
    "## Скрипт для создания заявок Subzero на несколько аккаунтов МС\n"
   ],
   "metadata": {
    "collapsed": false
   }
  },
  {
   "cell_type": "markdown",
   "source": [],
   "metadata": {
    "collapsed": false
   }
  },
  {
   "cell_type": "code",
   "execution_count": 2,
   "metadata": {
    "collapsed": true
   },
   "outputs": [],
   "source": [
    "import pandas as pd\n",
    "import requests\n",
    "import json\n",
    "from threading import Thread"
   ]
  },
  {
   "cell_type": "code",
   "execution_count": 4,
   "outputs": [],
   "source": [
    "namespace = 4  # Неймспейс\n",
    "ticket_number = 2  # Количество заявок на 1 аккаунт\n",
    "thread_number = 20  # Количество потоков\n",
    "\n",
    "url = f'https://subzero-billing-{namespace}.testms-test.lognex.ru/api/clinton/1.0/ticket'\n",
    "headers = {'Content-Type': 'application/json'}"
   ],
   "metadata": {
    "collapsed": false
   }
  },
  {
   "cell_type": "code",
   "execution_count": 30,
   "outputs": [],
   "source": [
    "#column = ['id']\n",
    "accounts = pd.read_csv('lognex_billing_billingaccount.csv',header=None)\n",
    "accounts=accounts.values.tolist()"
   ],
   "metadata": {
    "collapsed": false
   }
  },
  {
   "cell_type": "code",
   "execution_count": 32,
   "outputs": [],
   "source": [
    "def bomber_to_many():\n",
    "    counter = 0\n",
    "    with open('json3.json', 'r') as json3:\n",
    "        sub_data = json.load(json3)\n",
    "    for account in accounts:\n",
    "        sub_data['accountId'] = (''.join(account))\n",
    "        for i in range(ticket_number):\n",
    "            counter += 1\n",
    "            response = requests.post(url, data=json.dumps(sub_data), headers=headers)\n",
    "            print(f'Заявка для {account} создана')\n",
    "            #return response\n",
    "    print('------------------------------------------------')\n",
    "    print(f'итого, создано заявок: {counter}')"
   ],
   "metadata": {
    "collapsed": false
   }
  },
  {
   "cell_type": "code",
   "execution_count": null,
   "outputs": [],
   "source": [
    "bomber_to_many()"
   ],
   "metadata": {
    "collapsed": false
   }
  },
  {
   "cell_type": "code",
   "execution_count": 5,
   "outputs": [
    {
     "name": "stdout",
     "output_type": "stream",
     "text": [
      "Заявка для ['4615c8f6-0e7b-11e2-06e0-3c4a92f3a0a7'] создана\n",
      "Заявка для ['4615c8f6-0e7b-11e2-06e0-3c4a92f3a0a7'] создана\n",
      "Заявка для ['0f75fc77-63a7-11ed-0a83-02fa0000728a'] создана\n",
      "Заявка для ['0f75fc77-63a7-11ed-0a83-02fa0000728a'] создана\n",
      "Заявка для ['9a0b3d33-62cf-11ed-0a83-02fa00000002'] создана\n",
      "Заявка для ['9a0b3d33-62cf-11ed-0a83-02fa00000002'] создана\n",
      "Заявка для ['100eea6a-63a7-11ed-0a83-02fa00007293'] создана\n",
      "Заявка для ['100eea6a-63a7-11ed-0a83-02fa00007293'] создана\n",
      "Заявка для ['ab923454-62cf-11ed-0a83-02fa0000000b'] создана\n",
      "Заявка для ['ab923454-62cf-11ed-0a83-02fa0000000b'] создана\n",
      "Заявка для ['c42d92e1-6396-11ed-0a83-02fa00007210'] создана\n",
      "Заявка для ['c42d92e1-6396-11ed-0a83-02fa00007210'] создана\n",
      "Заявка для ['8f8baf75-63b3-11ed-0a83-02fa000072a6'] создана\n",
      "Заявка для ['8f8baf75-63b3-11ed-0a83-02fa000072a6'] создана\n",
      "Заявка для ['90505033-63b3-11ed-0a83-02fa000072af'] создана\n",
      "Заявка для ['90505033-63b3-11ed-0a83-02fa000072af'] создана\n",
      "Заявка для ['90ec3b46-63b3-11ed-0a83-02fa000072b8'] создана\n",
      "Заявка для ['90ec3b46-63b3-11ed-0a83-02fa000072b8'] создана\n",
      "Заявка для ['91acdb17-63b3-11ed-0a83-02fa000072c1'] создана\n",
      "Заявка для ['91acdb17-63b3-11ed-0a83-02fa000072c1'] создана\n",
      "Заявка для ['9268570f-63b3-11ed-0a83-02fa000072ca'] создана\n",
      "Заявка для ['9268570f-63b3-11ed-0a83-02fa000072ca'] создана\n",
      "Заявка для ['80d3b7c2-6397-11ed-0a83-02fa0000721a'] создана\n",
      "Заявка для ['80d3b7c2-6397-11ed-0a83-02fa0000721a'] создана\n",
      "Заявка для ['2bedb715-63a0-11ed-0a83-02fa00007224'] создана\n",
      "Заявка для ['2bedb715-63a0-11ed-0a83-02fa00007224'] создана\n",
      "Заявка для ['6448b212-63a1-11ed-0a83-02fa0000722e'] создана\n",
      "Заявка для ['6448b212-63a1-11ed-0a83-02fa0000722e'] создана\n",
      "Заявка для ['b845f602-63a6-11ed-0a83-02fa00007238'] создана\n",
      "Заявка для ['b845f602-63a6-11ed-0a83-02fa00007238'] создана\n",
      "Заявка для ['0a572120-63a7-11ed-0a83-02fa00007242'] создана\n",
      "Заявка для ['0a572120-63a7-11ed-0a83-02fa00007242'] создана\n",
      "Заявка для ['0b261005-63a7-11ed-0a83-02fa0000724b'] создана\n",
      "Заявка для ['0b261005-63a7-11ed-0a83-02fa0000724b'] создана\n",
      "Заявка для ['0bc96dc4-63a7-11ed-0a83-02fa00007254'] создана\n",
      "Заявка для ['0bc96dc4-63a7-11ed-0a83-02fa00007254'] создана\n",
      "Заявка для ['0cfd6fcc-63a7-11ed-0a83-02fa00007266'] создана\n",
      "Заявка для ['0cfd6fcc-63a7-11ed-0a83-02fa00007266'] создана\n",
      "Заявка для ['0ee109fe-63a7-11ed-0a83-02fa00007281'] создана\n",
      "Заявка для ['0ee109fe-63a7-11ed-0a83-02fa00007281'] создана\n",
      "Заявка для ['0c724802-63a7-11ed-0a83-02fa0000725d'] создана\n",
      "Заявка для ['0c724802-63a7-11ed-0a83-02fa0000725d'] создана\n",
      "Заявка для ['0e1e6a64-63a7-11ed-0a83-02fa00007278'] создана\n",
      "Заявка для ['0e1e6a64-63a7-11ed-0a83-02fa00007278'] создана\n",
      "Заявка для ['0d981219-63a7-11ed-0a83-02fa0000726f'] создана\n",
      "Заявка для ['0d981219-63a7-11ed-0a83-02fa0000726f'] создана\n",
      "------------------------------------------------\n",
      "итого, создано заявок: 46\n"
     ]
    }
   ],
   "source": [
    "\n",
    "counter=0\n",
    "\n",
    "with open('json3.json', 'r') as json3:\n",
    "    sub_data = json.load(json3)\n",
    "    for account in accounts:\n",
    "        sub_data['accountId'] = (''.join(account))\n",
    "        with open('json3.json', 'w') as json3:\n",
    "            json3.write(json.dumps(sub_data,))\n",
    "\n",
    "        for i in range(2):\n",
    "            counter +=1\n",
    "            response = requests.post(url, data=json.dumps(sub_data), headers=headers)\n",
    "            print(f'Заявка для {account} создана')\n",
    "    print('------------------------------------------------')\n",
    "    print(f'итого, создано заявок: {counter}')"
   ],
   "metadata": {
    "collapsed": false
   }
  },
  {
   "cell_type": "markdown",
   "source": [
    "## Потоки"
   ],
   "metadata": {
    "collapsed": false
   }
  },
  {
   "cell_type": "code",
   "execution_count": 40,
   "outputs": [],
   "source": [
    "# Потоки\n",
    "\n",
    "thread1 = Thread(target=bomber_to_many)\n",
    "thread2 = Thread(target=bomber_to_many)\n",
    "thread3 = Thread(target=bomber_to_many)\n",
    "thread4 = Thread(target=bomber_to_many)\n",
    "thread5 = Thread(target=bomber_to_many)\n",
    "thread6 = Thread(target=bomber_to_many)\n",
    "thread7 = Thread(target=bomber_to_many)\n",
    "thread8 = Thread(target=bomber_to_many)\n",
    "thread9 = Thread(target=bomber_to_many)\n",
    "thread10 = Thread(target=bomber_to_many)\n",
    "thread11 = Thread(target=bomber_to_many)\n",
    "thread12 = Thread(target=bomber_to_many)\n",
    "thread13 = Thread(target=bomber_to_many)\n",
    "thread14 = Thread(target=bomber_to_many)\n",
    "thread15 = Thread(target=bomber_to_many)\n",
    "thread16 = Thread(target=bomber_to_many)\n",
    "thread17 = Thread(target=bomber_to_many)\n",
    "thread18 = Thread(target=bomber_to_many)\n",
    "thread19 = Thread(target=bomber_to_many)\n",
    "thread20 = Thread(target=bomber_to_many)\n",
    "\n",
    "\n",
    "def start_threads():\n",
    "    thread1.start()\n",
    "    thread2.start()\n",
    "    thread3.start()\n",
    "    thread4.start()\n",
    "    thread5.start()\n",
    "    thread6.start()\n",
    "    thread7.start()\n",
    "    thread8.start()\n",
    "    thread9.start()\n",
    "    thread10.start()\n",
    "    thread11.start()\n",
    "    thread12.start()\n",
    "    thread13.start()\n",
    "    thread14.start()\n",
    "    thread15.start()\n",
    "    thread16.start()\n",
    "    thread17.start()\n",
    "    thread18.start()\n",
    "    thread19.start()\n",
    "    thread20.start()\n",
    "\n",
    "\n",
    "def stop_threads():\n",
    "    thread1.join()\n",
    "    thread2.join()\n",
    "    thread3.join()\n",
    "    thread4.join()\n",
    "    thread5.join()\n",
    "    thread6.join()\n",
    "    thread7.join()\n",
    "    thread8.join()\n",
    "    thread9.join()\n",
    "    thread10.join()\n",
    "    thread11.join()\n",
    "    thread12.join()\n",
    "    thread13.join()\n",
    "    thread14.join()\n",
    "    thread15.join()\n",
    "    thread16.join()\n",
    "    thread17.join()\n",
    "    thread18.join()\n",
    "    thread19.join()\n",
    "    thread20.join()"
   ],
   "metadata": {
    "collapsed": false
   }
  },
  {
   "cell_type": "code",
   "execution_count": null,
   "outputs": [],
   "source": [
    "%%time\n",
    "start_threads()\n",
    "stop_threads()"
   ],
   "metadata": {
    "collapsed": false
   }
  }
 ],
 "metadata": {
  "kernelspec": {
   "display_name": "Python 3",
   "language": "python",
   "name": "python3"
  },
  "language_info": {
   "codemirror_mode": {
    "name": "ipython",
    "version": 2
   },
   "file_extension": ".py",
   "mimetype": "text/x-python",
   "name": "python",
   "nbconvert_exporter": "python",
   "pygments_lexer": "ipython2",
   "version": "2.7.6"
  }
 },
 "nbformat": 4,
 "nbformat_minor": 0
}
