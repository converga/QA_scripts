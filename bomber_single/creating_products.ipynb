{
 "cells": [
  {
   "cell_type": "code",
   "execution_count": 28,
   "metadata": {
    "collapsed": true
   },
   "outputs": [],
   "source": [
    "import requests\n",
    "import json\n",
    "import uuid"
   ]
  },
  {
   "cell_type": "code",
   "execution_count": 37,
   "outputs": [
    {
     "name": "stdout",
     "output_type": "stream",
     "text": [
      "Success\n",
      "04c669ea-7533-4eb0-a90b-c3ef9a4d525b\n"
     ]
    }
   ],
   "source": [
    "namespace = 'billing-4'\n",
    "# 1\n",
    "url = f'https://admin-{namespace}.testms-test.lognex.ru/api/tarifflego/1.0/product'\n",
    "headers = {'Content-Type': 'application/json'}\n",
    "\n",
    "# 2\n",
    "data = {\n",
    "  \"status\": \"ACTIVE\"\n",
    "}\n",
    "\n",
    "\n",
    "product_number = 1\n",
    "\n",
    "counter = 3\n",
    "\n",
    "free_id = None\n",
    "trial_id = None\n",
    "\n",
    "with open ('product_sample.json',encoding='utf-8') as product_data:\n",
    "    sub_data = json.load(product_data)\n",
    "    sub_data['name'] = str(f'Test_product{counter}')\n",
    "\n",
    "for tariff in sub_data[\"tariffs\"]:\n",
    "    product_id = str(uuid.uuid4())\n",
    "    url2 = f'https://admin-{{namespace}}.testms-test.lognex.ru/api/tarifflego/1.0/product/{product_id}/version/1/status'\n",
    "    tariff[\"id\"] = str(product_id)\n",
    "    if tariff[\"name\"][\"en\"] == \"Free\":\n",
    "        free_id = str(uuid.uuid4())\n",
    "        tariff[\"id\"] = free_id\n",
    "    elif tariff[\"name\"][\"en\"] == \"Trial\":\n",
    "        trial_id = str(uuid.uuid4())\n",
    "        tariff[\"id\"] = trial_id\n",
    "# Дозаполняем Триальный и Бесплатный\n",
    "sub_data['trial']['tariffId'] = trial_id\n",
    "sub_data['free']['tariffId'] = free_id\n",
    "\n",
    "# convert the modified data back to json\n",
    "json_data = json.dumps(sub_data)\n",
    "\n",
    "# make a POST request to the specified URL with the json data\n",
    "response = requests.post(url, json_data, headers=headers)\n",
    "\n",
    "# check the status code of the response\n",
    "if response.ok:\n",
    "    print('Success')\n",
    "#    print(sub_data)\n",
    "    print(product_id)\n",
    "else:\n",
    "    print(f'Failed, {response}')\n"
   ],
   "metadata": {
    "collapsed": false
   }
  },
  {
   "cell_type": "code",
   "execution_count": 36,
   "outputs": [
    {
     "data": {
      "text/plain": "<_io.TextIOWrapper name='product_sample.json' mode='r' encoding='utf-8'>"
     },
     "execution_count": 36,
     "metadata": {},
     "output_type": "execute_result"
    }
   ],
   "source": [],
   "metadata": {
    "collapsed": false
   }
  },
  {
   "cell_type": "code",
   "execution_count": null,
   "outputs": [],
   "source": [],
   "metadata": {
    "collapsed": false
   }
  },
  {
   "cell_type": "code",
   "execution_count": 43,
   "outputs": [
    {
     "name": "stdout",
     "output_type": "stream",
     "text": [
      "Failed, <Response [400]>\n"
     ]
    }
   ],
   "source": [
    "\n",
    "url2 = f'https://admin-{namespace}.testms-test.lognex.ru/api/tarifflego/1.0/product/04c669ea-7533-4eb0-a90b-c3ef9a4d525b/version/1/status'\n",
    "# check the status code of the response\n",
    "\n",
    "data_string = '{\"status\": \"ACTIVE\"}'\n",
    "data = json.loads(data_string)\n",
    "\n",
    "response = requests.put(url2, data, headers=headers)\n",
    "if response.ok:\n",
    "    print('Success')\n",
    "#    print(sub_data)\n",
    "else:\n",
    "    print(f'Failed, {response}')"
   ],
   "metadata": {
    "collapsed": false
   }
  },
  {
   "cell_type": "code",
   "execution_count": 44,
   "outputs": [
    {
     "data": {
      "text/plain": "'{\"status\": \"ACTIVE\"}'"
     },
     "execution_count": 44,
     "metadata": {},
     "output_type": "execute_result"
    }
   ],
   "source": [
    "data_string"
   ],
   "metadata": {
    "collapsed": false
   }
  }
 ],
 "metadata": {
  "kernelspec": {
   "display_name": "Python 3",
   "language": "python",
   "name": "python3"
  },
  "language_info": {
   "codemirror_mode": {
    "name": "ipython",
    "version": 2
   },
   "file_extension": ".py",
   "mimetype": "text/x-python",
   "name": "python",
   "nbconvert_exporter": "python",
   "pygments_lexer": "ipython2",
   "version": "2.7.6"
  }
 },
 "nbformat": 4,
 "nbformat_minor": 0
}
