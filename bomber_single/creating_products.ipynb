{
 "cells": [
  {
   "cell_type": "code",
   "execution_count": 3,
   "metadata": {
    "collapsed": true
   },
   "outputs": [],
   "source": [
    "import requests\n",
    "import json\n",
    "import uuid"
   ]
  },
  {
   "cell_type": "code",
   "execution_count": 12,
   "outputs": [
    {
     "ename": "TypeError",
     "evalue": "list indices must be integers or slices, not str",
     "output_type": "error",
     "traceback": [
      "\u001B[1;31m---------------------------------------------------------------------------\u001B[0m",
      "\u001B[1;31mTypeError\u001B[0m                                 Traceback (most recent call last)",
      "Cell \u001B[1;32mIn[12], line 17\u001B[0m\n\u001B[0;32m     14\u001B[0m sub_data \u001B[38;5;241m=\u001B[39m json\u001B[38;5;241m.\u001B[39mload(product_data)\n\u001B[0;32m     16\u001B[0m \u001B[38;5;66;03m# блок Тарифы\u001B[39;00m\n\u001B[1;32m---> 17\u001B[0m \u001B[43msub_data\u001B[49m\u001B[43m[\u001B[49m\u001B[38;5;124;43m'\u001B[39;49m\u001B[38;5;124;43mtariffs\u001B[39;49m\u001B[38;5;124;43m'\u001B[39;49m\u001B[43m]\u001B[49m\u001B[43m[\u001B[49m\u001B[38;5;124;43m'\u001B[39;49m\u001B[38;5;124;43mid\u001B[39;49m\u001B[38;5;124;43m'\u001B[39;49m\u001B[43m]\u001B[49m \u001B[38;5;241m=\u001B[39m \u001B[38;5;28mstr\u001B[39m(uuid\u001B[38;5;241m.\u001B[39muuid4())\n\u001B[0;32m     19\u001B[0m \u001B[38;5;28;01mfor\u001B[39;00m tariff \u001B[38;5;129;01min\u001B[39;00m sub_data[\u001B[38;5;124m\"\u001B[39m\u001B[38;5;124mtariffs\u001B[39m\u001B[38;5;124m\"\u001B[39m]:\n\u001B[0;32m     20\u001B[0m     \u001B[38;5;28;01mif\u001B[39;00m tariff[\u001B[38;5;124m\"\u001B[39m\u001B[38;5;124mname\u001B[39m\u001B[38;5;124m\"\u001B[39m][\u001B[38;5;124m\"\u001B[39m\u001B[38;5;124men\u001B[39m\u001B[38;5;124m\"\u001B[39m] \u001B[38;5;241m==\u001B[39m \u001B[38;5;124m\"\u001B[39m\u001B[38;5;124mFree\u001B[39m\u001B[38;5;124m\"\u001B[39m:\n",
      "\u001B[1;31mTypeError\u001B[0m: list indices must be integers or slices, not str"
     ]
    }
   ],
   "source": [
    "namespace = 'billing-4'\n",
    "\n",
    "url = f'https://online-{namespace}.testms-test.lognex.ru/api/tarifflego/1.0/product'\n",
    "headers = {'Content-Type': 'application/x-www-form-urlencoded'}\n",
    "\n",
    "product_number = 1\n",
    "\n",
    "counter = 1\n",
    "\n",
    "free_id = None\n",
    "trial_id = None\n",
    "\n",
    "with open ('product_sample.json') as product_data:\n",
    "    sub_data = json.load(product_data)\n",
    "\n",
    "    # блок Тарифы\n",
    "    sub_data['tariffs']['id'] = str(uuid.uuid4())\n",
    "\n",
    "    for tariff in sub_data[\"tariffs\"]:\n",
    "        if tariff[\"name\"][\"en\"] == \"Free\":\n",
    "            free_id = str(uuid.uuid4())\n",
    "            tariff[\"id\"] = free_id\n",
    "        elif tariff[\"name\"][\"en\"] == \"Trial\":\n",
    "            trial_id = str(uuid.uuid4())\n",
    "            tariff[\"id\"] = trial_id\n",
    "        else:\n",
    "            tariff[\"id\"] = str(uuid.uuid4())\n",
    "    # Дозаполняем Триальный и Бесплатный\n",
    "    sub_data['trial']['tariffId'] = trial_id\n",
    "    sub_data['free']['tariffId'] = free_id\n",
    "\n",
    "    response = requests.post(url, headers=headers, data=json.dumps(sub_data))\n",
    "\n",
    "# convert back to json\n",
    "#json_data = json.dumps(data)\n",
    "\n",
    "\n",
    "# for product in range(prod_number):\n",
    "#\n",
    "#     response = requests.post(url, headers=headers, data=data)\n",
    "#     if response.ok:\n",
    "#         counter+=1\n",
    "#         #response=json.loads(response.text)\n",
    "#         print(f'account №{counter} successfully registered')\n",
    "#     else:\n",
    "#         print('Registry failed!'+ str(response))\n",
    "# print('------------------------------------------------')\n",
    "# print(f'итого, зарегистрировано: {counter} из', len(emails_list))"
   ],
   "metadata": {
    "collapsed": false
   }
  },
  {
   "cell_type": "code",
   "execution_count": null,
   "outputs": [],
   "source": [],
   "metadata": {
    "collapsed": false
   }
  },
  {
   "cell_type": "markdown",
   "source": [
    " with open('json3.json', 'r') as json3:\n",
    "        sub_data = json.load(json3)\n",
    "    for index, row in accounts.iterrows():\n",
    "        sub_data['accountId'] = str(row[\"id\"])\n",
    "\n",
    "        for i in range(ticket_number):\n",
    "            counter += 1\n",
    "            response = requests.post(url, data=json.dumps(sub_data), headers=headers)\n",
    "            if response.ok:\n",
    "                print(f'Заявка для {row} создана', '\\n')\n",
    "            #return response\n",
    "            else:\n",
    "                print(f'Заявка для {row} НЕ создана'+str(response))\n",
    "    print('------------------------------------------------')\n",
    "    print(f'итого, создано заявок: {counter}')"
   ],
   "metadata": {
    "collapsed": false
   }
  }
 ],
 "metadata": {
  "kernelspec": {
   "display_name": "Python 3",
   "language": "python",
   "name": "python3"
  },
  "language_info": {
   "codemirror_mode": {
    "name": "ipython",
    "version": 2
   },
   "file_extension": ".py",
   "mimetype": "text/x-python",
   "name": "python",
   "nbconvert_exporter": "python",
   "pygments_lexer": "ipython2",
   "version": "2.7.6"
  }
 },
 "nbformat": 4,
 "nbformat_minor": 0
}
