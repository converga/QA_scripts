{
 "cells": [
  {
   "cell_type": "code",
   "execution_count": 6,
   "outputs": [],
   "source": [
    "import requests\n",
    "import json\n",
    "import sqlalchemy\n",
    "import time\n",
    "import pandas as pd\n",
    "from concurrent.futures import ThreadPoolExecutor"
   ],
   "metadata": {
    "collapsed": false
   }
  },
  {
   "cell_type": "code",
   "execution_count": 7,
   "outputs": [],
   "source": [
    "# Фукнция для запроса к базе\n",
    "\n",
    "def sql_go(request):\n",
    "    return pd.read_sql(sqlalchemy.text(request), con)"
   ],
   "metadata": {
    "collapsed": false
   }
  },
  {
   "cell_type": "code",
   "execution_count": 4,
   "outputs": [],
   "source": [
    "# Изменяемые параметры:\n",
    "\n",
    "namespace = 5  # Неймспейс\n",
    "ticket_number = 1  # Количество заявок на 1 поток\n",
    "num_threads = 1  # Количество потоков\n",
    "\n",
    "# Запрос\n",
    "url = f'https://subzero-billing-{namespace}.testms-test.lognex.ru/api/clinton/1.0/ticket'\n",
    "headers = {'Content-Type': 'application/json'}\n",
    "\n",
    "con = sqlalchemy.create_engine('postgresql://postgres:@127.0.0.1:8181/lognex')"
   ],
   "metadata": {
    "collapsed": false
   }
  },
  {
   "cell_type": "code",
   "execution_count": null,
   "metadata": {
    "collapsed": true
   },
   "outputs": [],
   "source": [
    "# Функция для бомбардировки запросами в clinton, ничего менять не нужно\n",
    "def bomber():\n",
    "    print('bomber start')\n",
    "\n",
    "    counter1 = 0\n",
    "\n",
    "    with requests.Session() as s:\n",
    "        with open('json1.json', 'r') as json1:\n",
    "            sub_data = json.load(json1)\n",
    "            for i in range(ticket_number):\n",
    "                counter1 += 1\n",
    "                s.post(url, data=json.dumps(sub_data), headers=headers)\n",
    "                print('request 1 done', counter1)\n",
    "            # return response\n",
    "    print('------------------------------------------------')\n",
    "    print('итого, создано заявок:', counter1)\n"
   ]
  },
  {
   "cell_type": "code",
   "execution_count": null,
   "outputs": [],
   "source": [],
   "metadata": {
    "collapsed": false
   }
  },
  {
   "cell_type": "code",
   "execution_count": null,
   "outputs": [],
   "source": [],
   "metadata": {
    "collapsed": false
   }
  }
 ],
 "metadata": {
  "kernelspec": {
   "display_name": "Python 3",
   "language": "python",
   "name": "python3"
  },
  "language_info": {
   "codemirror_mode": {
    "name": "ipython",
    "version": 2
   },
   "file_extension": ".py",
   "mimetype": "text/x-python",
   "name": "python",
   "nbconvert_exporter": "python",
   "pygments_lexer": "ipython2",
   "version": "2.7.6"
  }
 },
 "nbformat": 4,
 "nbformat_minor": 0
}
