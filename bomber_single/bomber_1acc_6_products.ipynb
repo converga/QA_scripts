{
 "cells": [
  {
   "cell_type": "code",
   "execution_count": 11,
   "outputs": [],
   "source": [
    "import requests\n",
    "import json\n",
    "import sqlalchemy\n",
    "import time\n",
    "import pandas as pd\n",
    "from concurrent.futures import ThreadPoolExecutor\n",
    "con = sqlalchemy.create_engine('postgresql://postgres:@127.0.0.1:8181/lognex')"
   ],
   "metadata": {
    "collapsed": false
   }
  },
  {
   "cell_type": "code",
   "execution_count": 7,
   "outputs": [],
   "source": [
    "# Фукнция для запроса к базе\n",
    "\n",
    "def sql_go(request):\n",
    "    return pd.read_sql(sqlalchemy.text(request), con)"
   ],
   "metadata": {
    "collapsed": false
   }
  },
  {
   "cell_type": "code",
   "execution_count": 8,
   "outputs": [],
   "source": [
    "sql_product = '''\n",
    "            select name as \"Название продукта\", internal_id as \"ID продукта\", trialtariff_id as \"ID триального тарифа\"\n",
    "from billing.productversion\n",
    "where name ILIKE 'Test_product_%'\n",
    "        '''"
   ],
   "metadata": {
    "collapsed": false
   }
  },
  {
   "cell_type": "code",
   "execution_count": 9,
   "outputs": [
    {
     "data": {
      "text/plain": "'\\n            select name as \"Название продукта\", internal_id as \"ID продукта\", trialtariff_id as \"ID триального тарифа\"\\nfrom billing.productversion\\nwhere name ILIKE \\'Test_product_%\\'\\n        '"
     },
     "execution_count": 9,
     "metadata": {},
     "output_type": "execute_result"
    }
   ],
   "source": [
    "sql_product"
   ],
   "metadata": {
    "collapsed": false
   }
  },
  {
   "cell_type": "code",
   "execution_count": 13,
   "outputs": [
    {
     "data": {
      "text/plain": "   Название продукта                           ID продукта  \\\n0      Test_product1  34f97e75-9369-11ed-0a80-089c00002d47   \n1      Test_product2  dba98853-936a-11ed-0a80-089c00002d4d   \n2      Test_product3  a9406a0d-936d-11ed-0a80-089c00002d53   \n3     Test_product11  3f133534-941f-11ed-0a80-089c00002d9b   \n4    Test_product_11  51e881c0-9420-11ed-0a80-089c00002da1   \n5    Test_product_12  526a1bf5-9420-11ed-0a80-089c00002da7   \n6    Test_product_13  534768f4-9420-11ed-0a80-089c00002dad   \n7      Test_product4  d28c3622-9388-11ed-0a80-089c00002d5f   \n8      Test_product6  ac4aa396-9419-11ed-0a80-089c00002d7d   \n9      Test_product7  13c9c4ed-941a-11ed-0a80-089c00002d83   \n10     Test_product8  dd2047be-941c-11ed-0a80-089c00002d89   \n11     Test_product9  b88c064c-941d-11ed-0a80-089c00002d8f   \n12   Test_product_12  99d85c1f-9423-11ed-0a80-089c00002db3   \n13    Test_product10  e96678bc-941d-11ed-0a80-089c00002d95   \n14   Test_product_13  9a7c68ce-9423-11ed-0a80-089c00002db9   \n15   Test_product_14  9b486bff-9423-11ed-0a80-089c00002dbf   \n\n                    ID триального тарифа  \n0   3e69cf20-c123-476a-80a1-9d57c6576f23  \n1   eecc32fc-c04b-4518-a1f4-b97790fa6187  \n2   4c46623e-8ef1-4a29-9cda-ecfaf5d430aa  \n3   0a63e566-b8be-4b64-9e34-63996dfc887c  \n4   6f5b12c2-2c9a-40db-93d0-cd7396428fc9  \n5   49862588-b025-48a7-883a-07ead022b04f  \n6   c94f517f-c008-45b7-8207-91bcdd82c141  \n7   c183678e-a80c-4014-bb73-b1c6778756a5  \n8   215ae0da-beb0-42d6-95e8-ab228c5281ed  \n9   9c3340ff-d042-4359-bf27-1504b82d35ea  \n10  c3cb9318-cadb-4766-84e0-a32e359dd2b9  \n11  1ab32ed7-8918-4cd7-91c1-fec4e0d204bb  \n12  1091f7ae-e977-4142-b770-1d2465012189  \n13  b2429084-3b30-41d7-88dd-b34c22597f3a  \n14  278bf70d-2413-4c62-b37d-fb9bfce17ee0  \n15  d986d992-0993-4d60-b6a0-d3b1dcc218ba  ",
      "text/html": "<div>\n<style scoped>\n    .dataframe tbody tr th:only-of-type {\n        vertical-align: middle;\n    }\n\n    .dataframe tbody tr th {\n        vertical-align: top;\n    }\n\n    .dataframe thead th {\n        text-align: right;\n    }\n</style>\n<table border=\"1\" class=\"dataframe\">\n  <thead>\n    <tr style=\"text-align: right;\">\n      <th></th>\n      <th>Название продукта</th>\n      <th>ID продукта</th>\n      <th>ID триального тарифа</th>\n    </tr>\n  </thead>\n  <tbody>\n    <tr>\n      <th>0</th>\n      <td>Test_product1</td>\n      <td>34f97e75-9369-11ed-0a80-089c00002d47</td>\n      <td>3e69cf20-c123-476a-80a1-9d57c6576f23</td>\n    </tr>\n    <tr>\n      <th>1</th>\n      <td>Test_product2</td>\n      <td>dba98853-936a-11ed-0a80-089c00002d4d</td>\n      <td>eecc32fc-c04b-4518-a1f4-b97790fa6187</td>\n    </tr>\n    <tr>\n      <th>2</th>\n      <td>Test_product3</td>\n      <td>a9406a0d-936d-11ed-0a80-089c00002d53</td>\n      <td>4c46623e-8ef1-4a29-9cda-ecfaf5d430aa</td>\n    </tr>\n    <tr>\n      <th>3</th>\n      <td>Test_product11</td>\n      <td>3f133534-941f-11ed-0a80-089c00002d9b</td>\n      <td>0a63e566-b8be-4b64-9e34-63996dfc887c</td>\n    </tr>\n    <tr>\n      <th>4</th>\n      <td>Test_product_11</td>\n      <td>51e881c0-9420-11ed-0a80-089c00002da1</td>\n      <td>6f5b12c2-2c9a-40db-93d0-cd7396428fc9</td>\n    </tr>\n    <tr>\n      <th>5</th>\n      <td>Test_product_12</td>\n      <td>526a1bf5-9420-11ed-0a80-089c00002da7</td>\n      <td>49862588-b025-48a7-883a-07ead022b04f</td>\n    </tr>\n    <tr>\n      <th>6</th>\n      <td>Test_product_13</td>\n      <td>534768f4-9420-11ed-0a80-089c00002dad</td>\n      <td>c94f517f-c008-45b7-8207-91bcdd82c141</td>\n    </tr>\n    <tr>\n      <th>7</th>\n      <td>Test_product4</td>\n      <td>d28c3622-9388-11ed-0a80-089c00002d5f</td>\n      <td>c183678e-a80c-4014-bb73-b1c6778756a5</td>\n    </tr>\n    <tr>\n      <th>8</th>\n      <td>Test_product6</td>\n      <td>ac4aa396-9419-11ed-0a80-089c00002d7d</td>\n      <td>215ae0da-beb0-42d6-95e8-ab228c5281ed</td>\n    </tr>\n    <tr>\n      <th>9</th>\n      <td>Test_product7</td>\n      <td>13c9c4ed-941a-11ed-0a80-089c00002d83</td>\n      <td>9c3340ff-d042-4359-bf27-1504b82d35ea</td>\n    </tr>\n    <tr>\n      <th>10</th>\n      <td>Test_product8</td>\n      <td>dd2047be-941c-11ed-0a80-089c00002d89</td>\n      <td>c3cb9318-cadb-4766-84e0-a32e359dd2b9</td>\n    </tr>\n    <tr>\n      <th>11</th>\n      <td>Test_product9</td>\n      <td>b88c064c-941d-11ed-0a80-089c00002d8f</td>\n      <td>1ab32ed7-8918-4cd7-91c1-fec4e0d204bb</td>\n    </tr>\n    <tr>\n      <th>12</th>\n      <td>Test_product_12</td>\n      <td>99d85c1f-9423-11ed-0a80-089c00002db3</td>\n      <td>1091f7ae-e977-4142-b770-1d2465012189</td>\n    </tr>\n    <tr>\n      <th>13</th>\n      <td>Test_product10</td>\n      <td>e96678bc-941d-11ed-0a80-089c00002d95</td>\n      <td>b2429084-3b30-41d7-88dd-b34c22597f3a</td>\n    </tr>\n    <tr>\n      <th>14</th>\n      <td>Test_product_13</td>\n      <td>9a7c68ce-9423-11ed-0a80-089c00002db9</td>\n      <td>278bf70d-2413-4c62-b37d-fb9bfce17ee0</td>\n    </tr>\n    <tr>\n      <th>15</th>\n      <td>Test_product_14</td>\n      <td>9b486bff-9423-11ed-0a80-089c00002dbf</td>\n      <td>d986d992-0993-4d60-b6a0-d3b1dcc218ba</td>\n    </tr>\n  </tbody>\n</table>\n</div>"
     },
     "execution_count": 13,
     "metadata": {},
     "output_type": "execute_result"
    }
   ],
   "source": [
    "sql_go(sql_product)"
   ],
   "metadata": {
    "collapsed": false
   }
  },
  {
   "cell_type": "code",
   "execution_count": 12,
   "outputs": [],
   "source": [
    "# Изменяемые параметры:\n",
    "\n",
    "namespace = 5  # Неймспейс\n",
    "ticket_number = 1  # Количество заявок на 1 поток\n",
    "num_threads = 1  # Количество потоков\n",
    "\n",
    "# Запрос\n",
    "url = f'https://subzero-billing-{namespace}.testms-test.lognex.ru/api/clinton/1.0/ticket'\n",
    "headers = {'Content-Type': 'application/json'}"
   ],
   "metadata": {
    "collapsed": false
   }
  },
  {
   "cell_type": "code",
   "execution_count": null,
   "metadata": {
    "collapsed": true
   },
   "outputs": [],
   "source": [
    "# Функция для бомбардировки запросами в clinton, ничего менять не нужно\n",
    "def bomber():\n",
    "    print('bomber start')\n",
    "\n",
    "    counter1 = 0\n",
    "\n",
    "    with requests.Session() as s:\n",
    "        with open('json1.json', 'r') as json1:\n",
    "            sub_data = json.load(json1)\n",
    "            for i in range(ticket_number):\n",
    "                counter1 += 1\n",
    "                s.post(url, data=json.dumps(sub_data), headers=headers)\n",
    "                print('request 1 done', counter1)\n",
    "            # return response\n",
    "    print('------------------------------------------------')\n",
    "    print('итого, создано заявок:', counter1)\n"
   ]
  },
  {
   "cell_type": "code",
   "execution_count": null,
   "outputs": [],
   "source": [],
   "metadata": {
    "collapsed": false
   }
  },
  {
   "cell_type": "code",
   "execution_count": null,
   "outputs": [],
   "source": [],
   "metadata": {
    "collapsed": false
   }
  }
 ],
 "metadata": {
  "kernelspec": {
   "display_name": "Python 3",
   "language": "python",
   "name": "python3"
  },
  "language_info": {
   "codemirror_mode": {
    "name": "ipython",
    "version": 2
   },
   "file_extension": ".py",
   "mimetype": "text/x-python",
   "name": "python",
   "nbconvert_exporter": "python",
   "pygments_lexer": "ipython2",
   "version": "2.7.6"
  }
 },
 "nbformat": 4,
 "nbformat_minor": 0
}
