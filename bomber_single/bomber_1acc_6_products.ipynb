{
 "cells": [
  {
   "cell_type": "code",
   "execution_count": 1,
   "metadata": {
    "collapsed": false
   },
   "outputs": [],
   "source": [
    "import requests\n",
    "import json\n",
    "import sqlalchemy\n",
    "import time\n",
    "import pandas as pd\n",
    "from concurrent.futures import ThreadPoolExecutor\n",
    "con = sqlalchemy.create_engine('postgresql://postgres:@127.0.0.1:8181/lognex')"
   ]
  },
  {
   "cell_type": "code",
   "execution_count": null,
   "metadata": {},
   "outputs": [],
   "source": [
    "# Изменяемые параметры:\n",
    "\n",
    "namespace = 6  # Неймспейс\n",
    "ticket_number = 1  # Количество заявок на 1 поток\n",
    "num_threads = 1  # Количество потоков\n",
    "\n",
    "# Запрос\n",
    "url = f'https://subzero-billing-{namespace}.testms-test.lognex.ru/api/clinton/1.0/ticket'\n",
    "headers = {'Content-Type': 'application/json'}"
   ]
  },
  {
   "cell_type": "code",
   "execution_count": 4,
   "metadata": {
    "collapsed": false
   },
   "outputs": [],
   "source": [
    "# Фукнция для запроса к базе\n",
    "\n",
    "def sql_go(request):\n",
    "    return pd.read_sql(sqlalchemy.text(request), con)"
   ]
  },
  {
   "cell_type": "code",
   "execution_count": 2,
   "metadata": {
    "collapsed": false
   },
   "outputs": [],
   "source": [
    "sql_product = '''\n",
    "            select name as \"Название_продукта\", internal_id as \"ID_продукта\", trialtariff_id as \"ID_триального_тарифа\"\n",
    "from billing.productversion\n",
    "where name ILIKE 'Test_product_%'\n",
    "        '''"
   ]
  },
  {
   "cell_type": "code",
   "execution_count": 24,
   "metadata": {
    "collapsed": false
   },
   "outputs": [
    {
     "data": {
      "text/html": [
       "<div>\n",
       "<style scoped>\n",
       "    .dataframe tbody tr th:only-of-type {\n",
       "        vertical-align: middle;\n",
       "    }\n",
       "\n",
       "    .dataframe tbody tr th {\n",
       "        vertical-align: top;\n",
       "    }\n",
       "\n",
       "    .dataframe thead th {\n",
       "        text-align: right;\n",
       "    }\n",
       "</style>\n",
       "<table border=\"1\" class=\"dataframe\">\n",
       "  <thead>\n",
       "    <tr style=\"text-align: right;\">\n",
       "      <th></th>\n",
       "      <th>Название_продукта</th>\n",
       "      <th>ID_продукта</th>\n",
       "      <th>ID_триального_тарифа</th>\n",
       "    </tr>\n",
       "  </thead>\n",
       "  <tbody>\n",
       "    <tr>\n",
       "      <th>0</th>\n",
       "      <td>Test_product_1</td>\n",
       "      <td>71375ff5-972a-11ed-0a82-072200000038</td>\n",
       "      <td>b313d76d-290b-4be8-9e64-f24dddb7bd2e</td>\n",
       "    </tr>\n",
       "    <tr>\n",
       "      <th>1</th>\n",
       "      <td>Test_product_2</td>\n",
       "      <td>71bc7c4c-972a-11ed-0a82-07220000003e</td>\n",
       "      <td>fd2be12d-16fc-4cc1-b2c9-6cd3342665db</td>\n",
       "    </tr>\n",
       "    <tr>\n",
       "      <th>2</th>\n",
       "      <td>Test_product_3</td>\n",
       "      <td>722d9d51-972a-11ed-0a82-072200000044</td>\n",
       "      <td>1019ec92-379e-49cc-8517-b624ef6d711d</td>\n",
       "    </tr>\n",
       "    <tr>\n",
       "      <th>3</th>\n",
       "      <td>Test_product_4</td>\n",
       "      <td>72a7c7ee-972a-11ed-0a82-07220000004a</td>\n",
       "      <td>ae6b7f43-dd5e-47bf-b807-ec9247ad05db</td>\n",
       "    </tr>\n",
       "    <tr>\n",
       "      <th>4</th>\n",
       "      <td>Test_product_5</td>\n",
       "      <td>732d6311-972a-11ed-0a82-072200000050</td>\n",
       "      <td>15af65fa-ef18-44d8-84e7-f116ac13176b</td>\n",
       "    </tr>\n",
       "    <tr>\n",
       "      <th>5</th>\n",
       "      <td>Test_product_6</td>\n",
       "      <td>73a10b67-972a-11ed-0a82-072200000056</td>\n",
       "      <td>f95c7a27-26af-40f2-a8e5-dde0be0dbcc4</td>\n",
       "    </tr>\n",
       "  </tbody>\n",
       "</table>\n",
       "</div>"
      ],
      "text/plain": [
       "  Название_продукта                           ID_продукта  \\\n",
       "0    Test_product_1  71375ff5-972a-11ed-0a82-072200000038   \n",
       "1    Test_product_2  71bc7c4c-972a-11ed-0a82-07220000003e   \n",
       "2    Test_product_3  722d9d51-972a-11ed-0a82-072200000044   \n",
       "3    Test_product_4  72a7c7ee-972a-11ed-0a82-07220000004a   \n",
       "4    Test_product_5  732d6311-972a-11ed-0a82-072200000050   \n",
       "5    Test_product_6  73a10b67-972a-11ed-0a82-072200000056   \n",
       "\n",
       "                   ID_триального_тарифа  \n",
       "0  b313d76d-290b-4be8-9e64-f24dddb7bd2e  \n",
       "1  fd2be12d-16fc-4cc1-b2c9-6cd3342665db  \n",
       "2  1019ec92-379e-49cc-8517-b624ef6d711d  \n",
       "3  ae6b7f43-dd5e-47bf-b807-ec9247ad05db  \n",
       "4  15af65fa-ef18-44d8-84e7-f116ac13176b  \n",
       "5  f95c7a27-26af-40f2-a8e5-dde0be0dbcc4  "
      ]
     },
     "execution_count": 24,
     "metadata": {},
     "output_type": "execute_result"
    }
   ],
   "source": [
    "product_list = sql_go(sql_product)\n",
    "product_list = product_list.set_index('Название_продукта').reset_index()\n",
    "product_list"
   ]
  },
  {
   "cell_type": "code",
   "execution_count": 23,
   "metadata": {
    "collapsed": false
   },
   "outputs": [
    {
     "data": {
      "text/plain": [
       "UUID('b313d76d-290b-4be8-9e64-f24dddb7bd2e')"
      ]
     },
     "execution_count": 23,
     "metadata": {},
     "output_type": "execute_result"
    }
   ],
   "source": [
    "test_id = product_list.loc['Test_product_1', 'ID_триального_тарифа']\n",
    "test_id"
   ]
  },
  {
   "cell_type": "code",
   "execution_count": 19,
   "metadata": {},
   "outputs": [
    {
     "name": "stdout",
     "output_type": "stream",
     "text": [
      "b313d76d-290b-4be8-9e64-f24dddb7bd2e\n",
      "fd2be12d-16fc-4cc1-b2c9-6cd3342665db\n",
      "1019ec92-379e-49cc-8517-b624ef6d711d\n",
      "ae6b7f43-dd5e-47bf-b807-ec9247ad05db\n",
      "15af65fa-ef18-44d8-84e7-f116ac13176b\n",
      "f95c7a27-26af-40f2-a8e5-dde0be0dbcc4\n"
     ]
    }
   ],
   "source": [
    "for index, row in product_list.iterrows():\n",
    "    print (row['ID_триального_тарифа'])"
   ]
  },
  {
   "cell_type": "code",
   "execution_count": null,
   "metadata": {},
   "outputs": [],
   "source": []
  },
  {
   "cell_type": "code",
   "execution_count": 7,
   "metadata": {
    "collapsed": false
   },
   "outputs": [],
   "source": []
  },
  {
   "cell_type": "code",
   "execution_count": 8,
   "metadata": {
    "collapsed": false
   },
   "outputs": [
    {
     "data": {
      "text/html": [
       "<div>\n",
       "<style scoped>\n",
       "    .dataframe tbody tr th:only-of-type {\n",
       "        vertical-align: middle;\n",
       "    }\n",
       "\n",
       "    .dataframe tbody tr th {\n",
       "        vertical-align: top;\n",
       "    }\n",
       "\n",
       "    .dataframe thead th {\n",
       "        text-align: right;\n",
       "    }\n",
       "</style>\n",
       "<table border=\"1\" class=\"dataframe\">\n",
       "  <thead>\n",
       "    <tr style=\"text-align: right;\">\n",
       "      <th></th>\n",
       "      <th>id</th>\n",
       "    </tr>\n",
       "  </thead>\n",
       "  <tbody>\n",
       "    <tr>\n",
       "      <th>0</th>\n",
       "      <td>2a86c4fb-9710-11ed-0a82-07220000000c</td>\n",
       "    </tr>\n",
       "    <tr>\n",
       "      <th>1</th>\n",
       "      <td>538cb9a4-964a-11ed-0a82-072200000002</td>\n",
       "    </tr>\n",
       "  </tbody>\n",
       "</table>\n",
       "</div>"
      ],
      "text/plain": [
       "                                     id\n",
       "0  2a86c4fb-9710-11ed-0a82-07220000000c\n",
       "1  538cb9a4-964a-11ed-0a82-072200000002"
      ]
     },
     "execution_count": 8,
     "metadata": {},
     "output_type": "execute_result"
    }
   ],
   "source": [
    "account_list = sql_go('''select id from billing.billingaccount WHERE company LIKE 'test%' ''')\n",
    "account_list"
   ]
  },
  {
   "cell_type": "code",
   "execution_count": 29,
   "metadata": {},
   "outputs": [
    {
     "name": "stdout",
     "output_type": "stream",
     "text": [
      "bomber start\n"
     ]
    },
    {
     "ename": "KeyError",
     "evalue": "'product'",
     "output_type": "error",
     "traceback": [
      "\u001b[1;31m---------------------------------------------------------------------------\u001b[0m",
      "\u001b[1;31mKeyError\u001b[0m                                  Traceback (most recent call last)",
      "Cell \u001b[1;32mIn[29], line 14\u001b[0m\n\u001b[0;32m     10\u001b[0m sub_data[\u001b[39m'\u001b[39m\u001b[39maccountId\u001b[39m\u001b[39m'\u001b[39m] \u001b[39m=\u001b[39m account_id\n\u001b[0;32m     12\u001b[0m \u001b[39mfor\u001b[39;00m index, row \u001b[39min\u001b[39;00m product_list\u001b[39m.\u001b[39miterrows():\n\u001b[1;32m---> 14\u001b[0m     sub_data[\u001b[39m'\u001b[39;49m\u001b[39mproduct\u001b[39;49m\u001b[39m'\u001b[39;49m][\u001b[39m'\u001b[39m\u001b[39mid\u001b[39m\u001b[39m'\u001b[39m] \u001b[39m=\u001b[39m product_list\u001b[39m.\u001b[39mloc[index, \u001b[39m'\u001b[39m\u001b[39mID_продукта\u001b[39m\u001b[39m'\u001b[39m]\n\u001b[0;32m     15\u001b[0m     sub_data[\u001b[39m'\u001b[39m\u001b[39mtariff\u001b[39m\u001b[39m'\u001b[39m][\u001b[39m'\u001b[39m\u001b[39mid\u001b[39m\u001b[39m'\u001b[39m] \u001b[39m=\u001b[39m product_list\u001b[39m.\u001b[39mloc[index, \u001b[39m'\u001b[39m\u001b[39mID_триального_тарифа\u001b[39m\u001b[39m'\u001b[39m]\n\u001b[0;32m     17\u001b[0m     counter \u001b[39m+\u001b[39m\u001b[39m=\u001b[39m \u001b[39m1\u001b[39m\n",
      "\u001b[1;31mKeyError\u001b[0m: 'product'"
     ]
    }
   ],
   "source": [
    "print('bomber start')\n",
    "\n",
    "counter = 0\n",
    "\n",
    "with requests.Session() as s:\n",
    "    with open('json1.json', 'r') as json1:\n",
    "        sub_data = json.load(json1)\n",
    "        for i in range(ticket_number):\n",
    "            for account_id in account_list:\n",
    "                sub_data['accountId'] = account_id\n",
    "\n",
    "                for index, row in product_list.iterrows():\n",
    "                    \n",
    "                    sub_data['product']['id'] = product_list.loc[index, 'ID_продукта']\n",
    "                    sub_data['tariff']['id'] = product_list.loc[index, 'ID_триального_тарифа']\n",
    "        \n",
    "                    counter += 1\n",
    "                    print(sub_data)\n",
    "                    print('--------------------------------------------------')\n",
    "                    # s.post(url, data=json.dumps(sub_data), headers=headers)\n",
    "                    # print('', counter1)\n",
    "\n",
    "    print('------------------------------------------------')\n",
    "    print('итого, создано заявок:', counter)"
   ]
  },
  {
   "cell_type": "code",
   "execution_count": 32,
   "metadata": {},
   "outputs": [
    {
     "ename": "KeyError",
     "evalue": "'product'",
     "output_type": "error",
     "traceback": [
      "\u001b[1;31m---------------------------------------------------------------------------\u001b[0m",
      "\u001b[1;31mKeyError\u001b[0m                                  Traceback (most recent call last)",
      "Cell \u001b[1;32mIn[32], line 1\u001b[0m\n\u001b[1;32m----> 1\u001b[0m sub_data[\u001b[39m'\u001b[39;49m\u001b[39mproduct\u001b[39;49m\u001b[39m'\u001b[39;49m][\u001b[39m'\u001b[39m\u001b[39mid\u001b[39m\u001b[39m'\u001b[39m]\n",
      "\u001b[1;31mKeyError\u001b[0m: 'product'"
     ]
    }
   ],
   "source": [
    "sub_data['product']['id']"
   ]
  },
  {
   "cell_type": "code",
   "execution_count": 25,
   "metadata": {
    "collapsed": true
   },
   "outputs": [],
   "source": [
    "# Функция для бомбардировки запросами в clinton, ничего менять не нужно\n",
    "def bomber():\n",
    "    print('bomber start')\n",
    "\n",
    "    counter = 0\n",
    "\n",
    "    with requests.Session() as s:\n",
    "        with open('json1.json', 'r') as json1:\n",
    "            sub_data = json.load(json1)\n",
    "            for i in range(ticket_number):\n",
    "                for account_id in account_list:\n",
    "                    sub_data['accountId'] = account_id\n",
    "\n",
    "                    for index, row in product_list.iterrows():\n",
    "                        \n",
    "                        sub_data['product']['id'] = index['ID_продукта']\n",
    "                        sub_data['tariff']['id'] = index['ID_триального_тарифа']\n",
    "            \n",
    "                        counter += 1\n",
    "                        print(sub_data)\n",
    "                        print('--------------------------------------------------')\n",
    "                        # s.post(url, data=json.dumps(sub_data), headers=headers)\n",
    "                        # print('', counter1)\n",
    "\n",
    "    print('------------------------------------------------')\n",
    "    print('итого, создано заявок:', counter)\n"
   ]
  },
  {
   "cell_type": "code",
   "execution_count": null,
   "metadata": {
    "collapsed": false
   },
   "outputs": [],
   "source": []
  }
 ],
 "metadata": {
  "kernelspec": {
   "display_name": "Python 3",
   "language": "python",
   "name": "python3"
  },
  "language_info": {
   "codemirror_mode": {
    "name": "ipython",
    "version": 3
   },
   "file_extension": ".py",
   "mimetype": "text/x-python",
   "name": "python",
   "nbconvert_exporter": "python",
   "pygments_lexer": "ipython3",
   "version": "3.11.1"
  },
  "vscode": {
   "interpreter": {
    "hash": "c429642912e30fb481f1e3f7127afa9241efab0aa6fefd4faa07a8488be9086f"
   }
  }
 },
 "nbformat": 4,
 "nbformat_minor": 0
}
