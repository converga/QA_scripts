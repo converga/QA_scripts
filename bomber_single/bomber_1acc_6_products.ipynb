{
 "cells": [
  {
   "cell_type": "code",
   "execution_count": 1,
   "outputs": [],
   "source": [
    "import requests\n",
    "import json\n",
    "from concurrent.futures import ThreadPoolExecutor"
   ],
   "metadata": {
    "collapsed": false
   }
  },
  {
   "cell_type": "code",
   "execution_count": null,
   "metadata": {
    "collapsed": true
   },
   "outputs": [],
   "source": [
    "# Функция для бомбардировки запросами в clinton, ничего менять не нужно\n",
    "def bomber():\n",
    "    print('bomber start')\n",
    "\n",
    "    counter1 = 0\n",
    "    counter2 = 0\n",
    "\n",
    "    with requests.Session() as s:\n",
    "        with open('json1.json', 'r') as json1:\n",
    "            sub_data = json.load(json1)\n",
    "            for i in range(ticket_number):\n",
    "                counter1 += 1\n",
    "                with s.post(url, data=json.dumps(sub_data), headers=headers):\n",
    "                    print('request 1 done', counter1)\n",
    "            # return response\n",
    "    print('------------------------------------------------')\n",
    "    print('итого, создано заявок:', counter1 + counter2)\n"
   ]
  }
 ],
 "metadata": {
  "kernelspec": {
   "display_name": "Python 3",
   "language": "python",
   "name": "python3"
  },
  "language_info": {
   "codemirror_mode": {
    "name": "ipython",
    "version": 2
   },
   "file_extension": ".py",
   "mimetype": "text/x-python",
   "name": "python",
   "nbconvert_exporter": "python",
   "pygments_lexer": "ipython2",
   "version": "2.7.6"
  }
 },
 "nbformat": 4,
 "nbformat_minor": 0
}
